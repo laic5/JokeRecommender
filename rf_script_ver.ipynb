{
 "cells": [
  {
   "cell_type": "markdown",
   "metadata": {},
   "source": [
    "# Random Forest! :D"
   ]
  },
  {
   "cell_type": "code",
   "execution_count": 1,
   "metadata": {
    "collapsed": true
   },
   "outputs": [],
   "source": [
    "import pandas as pd\n",
    "import numpy as np\n",
    "\n",
    "from sklearn import preprocessing\n",
    "from sklearn.linear_model import Lasso\n",
    "from sklearn.feature_selection import SelectFromModel\n",
    "from sklearn.ensemble import RandomForestRegressor\n",
    "\n",
    "import seaborn as sns; sns.set(color_codes=True)\n",
    "import matplotlib.pyplot as plt\n",
    "\n",
    "import random\n",
    "\n",
    "random.seed(2)"
   ]
  },
  {
   "cell_type": "code",
   "execution_count": 2,
   "metadata": {
    "collapsed": true
   },
   "outputs": [],
   "source": [
    "# GLOBAL VARIABLES\n",
    "train_split = .8\n",
    "show_plot = True\n",
    "num_pred_jokes = 10 # number of jokes you want to predict for a user\n",
    "\n",
    "# using a random person for demo purposes. can be changed\n",
    "sample_user = {'major':'Statistics', 'age':21, 'birth_country':\"United States\", 'gender':\"Female\", 'id':5}"
   ]
  },
  {
   "cell_type": "code",
   "execution_count": 36,
   "metadata": {
    "collapsed": true
   },
   "outputs": [],
   "source": [
    "def lsa_fn(X_tfidf, dim_reduce = 20, print_var=False):\n",
    "    from sklearn.decomposition import TruncatedSVD \n",
    "    from sklearn.preprocessing import Normalizer\n",
    "    \"\"\"\n",
    "    INPUT:\n",
    "    \n",
    "    dim_reduce: the number of columns you expect for the results\n",
    "    X_tfidf: ti-idf matrix \n",
    "    \n",
    "    OUTPUT:\n",
    "    matrix with reduced dim (should be number_of_jokes x dim_reduce) \n",
    "    \"\"\"\n",
    "    \n",
    "    lsa = TruncatedSVD(dim_reduce, algorithm = 'arpack')\n",
    "\n",
    "    # X_tfidf : 153 x 788 tf-idf matrix\n",
    "    dtm_lsa = lsa.fit_transform(X_tfidf)\n",
    "\n",
    "    #reduced matrix (combine this matrix w/ other features)\n",
    "    dtm_lsa = Normalizer(copy=False).fit_transform(dtm_lsa)\n",
    "    \n",
    "    if print_var:\n",
    "        print(str(lsa.explained_variance_.cumsum()[-1] * 100) + \"%\")\n",
    "    \n",
    "    return(dtm_lsa)"
   ]
  },
  {
   "cell_type": "code",
   "execution_count": 4,
   "metadata": {
    "collapsed": true
   },
   "outputs": [],
   "source": [
    "def preprocess_feature_df(tfidf, add_df):\n",
    "    tfidf_df = pd.DataFrame(tfidf)\n",
    "    tfidf_columns = [\"tfidf\" + str(i) for i in range((tfidf_df.shape[1]))]\n",
    "    tfidf_df.columns = tfidf_columns\n",
    "    feat = pd.concat([add_df, tfidf_df], axis=1)\n",
    "    feat.rename(columns = {'id':'joke_id'}, inplace = True)\n",
    "    \n",
    "    return feat"
   ]
  },
  {
   "cell_type": "code",
   "execution_count": 5,
   "metadata": {
    "collapsed": true
   },
   "outputs": [],
   "source": [
    "def remove_low_variance_users(df):\n",
    "    user_var = {}\n",
    "    for rater in df.joke_rater_id.unique():\n",
    "        entries = df[(df['joke_rater_id']==rater)]\n",
    "        ratings = entries.rating\n",
    "        var = np.nanvar(ratings)\n",
    "        if np.isnan(var) == False:\n",
    "            user_var[rater] = var\n",
    "            #print(str(rater) + \": \" + str(np.nanvar(ratings)))\n",
    "\n",
    "    bad_keys = dict((k, v) for k, v in user_var.items() if v < 0.4).keys()\n",
    "\n",
    "    df = df[~df['joke_rater_id'].isin(bad_keys)].reset_index(drop=True) # remove low variance users\n",
    "    # df = df.loc[0:13398] # remove single entry NaN users -- will cause an issue if the database changes\n",
    "    \n",
    "    return df"
   ]
  },
  {
   "cell_type": "code",
   "execution_count": 6,
   "metadata": {
    "collapsed": true
   },
   "outputs": [],
   "source": [
    "def impute_NA(df):\n",
    "    which_drop = df[df.isnull().sum(axis=1) > 2].index\n",
    "    new_df = df.drop(which_drop)\n",
    "\n",
    "    modes = new_df.mode()\n",
    "    new_df.birth_country = new_df.birth_country.fillna(\"United States\")\n",
    "    new_df.preferred_joke_type = new_df.preferred_joke_type.fillna(\"Puns\")\n",
    "    new_df.preferred_joke_genre2 = new_df.preferred_joke_genre.fillna(\"Programming\")\n",
    "    new_df = new_df.drop(new_df[new_df.joke_type.isnull() == True].index)\n",
    "    new_df.subject = new_df.subject.fillna('0')\n",
    "    \n",
    "    return new_df"
   ]
  },
  {
   "cell_type": "code",
   "execution_count": 7,
   "metadata": {
    "collapsed": true
   },
   "outputs": [],
   "source": [
    "def change_category_to_dummy(df):\n",
    "    \n",
    "    # ignoes all numeric entries\n",
    "    ignore_col = [i for i in range((df.shape[1])) if (df.iloc[:,i].dtype == np.int64) or (df.iloc[:,i].dtype == np.float64)]\n",
    "    ignore_col.extend([1, 14, 15]) # ignores id, subject, and text -- assume these are still the column #'s\n",
    "    ignore_col = sorted(ignore_col)\n",
    "    \n",
    "    #new_df.iloc[:,string_col] = pd.get_dummies(new_df.iloc[:,string_col])\n",
    "    string_col = []\n",
    "    for i in range((df.shape[1])):\n",
    "        if i not in ignore_col:\n",
    "            string_col.append(i)\n",
    "    # same thing as\n",
    "    #string_col = [3, 5, 6, 7, 8, 9, 10, 11, 12, 13]\n",
    "    \n",
    "    df = pd.concat([df.iloc[:,ignore_col], pd.get_dummies(df.iloc[:,string_col])], axis=1)\n",
    "    \n",
    "    return df"
   ]
  },
  {
   "cell_type": "code",
   "execution_count": 15,
   "metadata": {
    "collapsed": true
   },
   "outputs": [],
   "source": [
    "def lasso_selection(df2, features):\n",
    "\n",
    "    lasso = Lasso(alpha=.001, random_state=2).fit(df2[features], df2.rating)\n",
    "    model = SelectFromModel(lasso, prefit=True)\n",
    "\n",
    "    lasso_X = model.transform(df2[features])\n",
    "\n",
    "    new_features = [\"rating\", \"joke_rater_id\"] # need these headers\n",
    "    \n",
    "    for i, feature in zip(model.get_support(), features): # get headers, since they get lost after lasso\n",
    "        if i:\n",
    "            new_features.append(feature)\n",
    "\n",
    "    df3 = pd.concat([df2.rating.reset_index(drop=True), df2.joke_rater_id.reset_index(drop=True), pd.DataFrame(lasso_X)], axis=1)\n",
    "    df3.columns = new_features\n",
    "    \n",
    "    return df3"
   ]
  },
  {
   "cell_type": "code",
   "execution_count": 9,
   "metadata": {
    "collapsed": true
   },
   "outputs": [],
   "source": [
    "def mse(predicted, real):\n",
    "    real = np.array(real)\n",
    "    predicted = np.array(predicted)\n",
    "    temp =  (real - predicted) * (real - predicted)\n",
    "    n = len(real)\n",
    "    mse = 1.0 / n * sum(temp)\n",
    "    return mse"
   ]
  },
  {
   "cell_type": "code",
   "execution_count": 17,
   "metadata": {
    "collapsed": true
   },
   "outputs": [],
   "source": [
    "def plot_pred_vs_actual(y_pred, y_test):\n",
    "    ax = sns.regplot(x=y_test, y=y_pred.astype('float'), scatter_kws={'alpha':0.1})\n",
    "    plt.xlabel(\"Actual\")\n",
    "    plt.ylabel(\"Predicted\")\n",
    "    plt.title(\"Predicted Rating vs. Actual Rating\")\n",
    "    plt.show()"
   ]
  },
  {
   "cell_type": "code",
   "execution_count": 20,
   "metadata": {
    "collapsed": true
   },
   "outputs": [],
   "source": [
    "# convert data into one-hot\n",
    "\n",
    "# assume data is a dict user_dict\n",
    "def convert_sample_onehot(user_dict, df, features):\n",
    "    '''\n",
    "    Works with new user or existing user.\n",
    "    Input: rater_id = user_dict (age, gender, birth_country, major, id)\n",
    "           df = combined, cleaned dataframe (df3)\n",
    "           \n",
    "    Converts user data into variables inside the dataframe (i.e. df3) so you can pass into the random forest.\n",
    "    '''\n",
    "    from itertools import compress\n",
    "    pd.options.mode.chained_assignment = None\n",
    "    \n",
    "    if user_dict['id'] in df.joke_rater_id.unique(): # is user already exists in database\n",
    "        return df[df.joke_rater_id == user_dict['id']]        \n",
    "    \n",
    "    entry = df[df.joke_rater_id == 476] # chose 476 randomly because they rated all 153 jokes\n",
    "    numRow = entry.shape[0]\n",
    "    \n",
    "    if user_dict['gender'] == \"Male\": # gender\n",
    "        entry.gender_Female = np.repeat(a=0, repeats=numRow)\n",
    "    \n",
    "    entry.age = np.repeat(user_dict['age'], numRow) # age\n",
    "    entry.joke_rater_id = np.repeat(user_dict['id'], numRow)\n",
    "    \n",
    "    ## COUNTRY\n",
    "    user_country = \"birth_country_\" + user_dict['birth_country'] # user's country\n",
    "    avail_countries = list(compress(features, [item.startswith('birth') for item in features])) # country dummies\n",
    "    country_cols = [i for i, x in enumerate(avail_countries) if x]\n",
    "    for col in country_cols:\n",
    "        entry.loc[:, col] = np.repeat(0, numRow) # set all countries to 0 for blank slate\n",
    "    if user_country in avail_countries:\n",
    "        entry.loc[:,user_country] = np.repeat(1, numRow) # if user country present, set to 1\n",
    "           \n",
    "    ## MAJOR\n",
    "    user_major = \"major_\" + user_dict['major'] # user's major\n",
    "    avail_majors = list(compress(features, [item.startswith('major') for item in features])) # major dummies\n",
    "    major_cols = [i for i, x in enumerate(avail_majors) if x]\n",
    "    for col in major_cols:\n",
    "        entry.loc[:, col] = np.repeat(0, numRow) # set all countries to 0 for blank slate  \n",
    "        \n",
    "    if user_major in avail_majors:\n",
    "        entry.loc[:,user_major] = np.repeat(1, numRow)\n",
    "        \n",
    "    return entry"
   ]
  },
  {
   "cell_type": "code",
   "execution_count": 34,
   "metadata": {
    "collapsed": true
   },
   "outputs": [],
   "source": [
    "def get_topk_jokes(user_df, rf, joke_df, joke_ids, features, k=10, print_output=True):\n",
    "    '''\n",
    "    Returns top k jokes for user (default=10).\n",
    "    user_df is output from convert_sample_onehot.\n",
    "    Assumes random forest rf is already trained.\n",
    "    '''\n",
    "    preds = rf.predict(user_df[features])\n",
    "    \n",
    "    df = pd.DataFrame(joke_ids)\n",
    "    df['pred'] = preds\n",
    "    \n",
    "    topk_id = list(df.sort_values('pred', ascending=False).head(k)['joke_id'])\n",
    "    \n",
    "    if print_output:\n",
    "        joke_details = joke_df[joke_df.joke_id.isin(topk_id)].iloc[:,0:5]\n",
    "        print(pd.merge(joke_details, df, on='joke_id', how='inner'))\n",
    "        \n",
    "    return df"
   ]
  },
  {
   "cell_type": "code",
   "execution_count": 19,
   "metadata": {
    "collapsed": true
   },
   "outputs": [],
   "source": [
    "def main():\n",
    "    \n",
    "    # 3 dfs from csvs\n",
    "    rater_df = pd.read_csv(\"JokeRater.csv\")\n",
    "    rating_df = pd.read_csv(\"JokeRating.csv\")\n",
    "    joke_df = pd.read_csv(\"Joke.csv\")\n",
    "    \n",
    "    ## PRE-PROCESSING DATAAAAAA\n",
    "    \n",
    "    # change column names for merging purposes\n",
    "    rater_df.rename(columns = {'id':'joke_rater_id'}, inplace = True)\n",
    "    joke_df.rename(columns = {'id':'joke_id'}, inplace = True)\n",
    "    joke_df['joke_id'] = joke_df['joke_id'].astype(float)\n",
    "    rater_df = rater_df.drop('joke_submitter_id', axis=1)\n",
    "    joke_df = joke_df.drop('joke_submitter_id', axis=1)\n",
    "    joke_df = joke_df.drop('joke_source', axis=1)\n",
    "    \n",
    "    # add tf-idf features\n",
    "    feature_df = pd.read_csv(\"feature_tfidf.csv\")\n",
    "    add_features = feature_df.iloc[:,1:5] # misc. features like avg length, num words\n",
    "\n",
    "    X_tfidf = feature_df.iloc[:,6:]\n",
    "    \n",
    "    # use LSA to reduce down number of tfidf columns\n",
    "    reduced_tfidf = lsa_fn(X_tfidf, 100) # 79.3% variance explained\n",
    "    \n",
    "    feat = preprocess_feature_df(add_df=add_features, tfidf=reduced_tfidf)\n",
    "\n",
    "    joke_df = pd.merge(joke_df, feat, on='joke_id', how='outer') # combine new features to joke dataframe\n",
    "    \n",
    "    # combine joke raters with their ratings\n",
    "    df = pd.merge(rating_df, rater_df, on=\"joke_rater_id\", how=\"outer\")\n",
    "    df = df.drop('id', axis=1)\n",
    "    \n",
    "    # deal with low variance users\n",
    "    df = remove_low_variance_users(df)\n",
    "    \n",
    "    # finally, add jokes in\n",
    "    df = pd.merge(df, joke_df, on='joke_id', how='outer')\n",
    "    \n",
    "    # get rid of high NaN entries, and replace categories with modes\n",
    "    df = impute_NA(df)\n",
    "    \n",
    "    # convert categorical variables into dummies (one-hot)\n",
    "    df2 = change_category_to_dummy(df)\n",
    "    \n",
    "    disclude_col = [0, 1, 2, 4, 5] # id's, subject, and text -- might want to double check if db changes\n",
    "    cols = [i for i in range(df2.shape[1]) if i not in disclude_col] # excluding text, subject, and ID's\n",
    "    features = df2.columns[cols]\n",
    "    \n",
    "    joke_ids = df2[df2.joke_rater_id == 476].joke_id # used later when querying new person\n",
    "    \n",
    "    # lasso feature selection\n",
    "    df3 = lasso_selection(df2, features)\n",
    "    \n",
    "    ## RANDOM FORESTTTT\n",
    "    \n",
    "    # train test split\n",
    "    train_size = round(len(rater_df) * train_split) # 80/20 train/test split!\n",
    "\n",
    "    unique_rater = df3.joke_rater_id.unique() # all unique users\n",
    "\n",
    "    train_idx = np.random.choice(unique_rater, train_size) # get randomly train_size number of users to put into train\n",
    "    test_idx = [i for i in unique_rater if i not in train_idx] # remaining users go to test\n",
    "\n",
    "    train_df = df3.loc[df3['joke_rater_id'].isin(train_idx)]\n",
    "    test_df = df3.loc[df3['joke_rater_id'].isin(test_idx)]\n",
    "    \n",
    "    # time to run random forest regressor\n",
    "    y = train_df.rating\n",
    "    Y_list = list(y.values)\n",
    "    new_cols = range(2, df3.shape[1]) # ignore rating and id\n",
    "    features = train_df.columns[new_cols]\n",
    "\n",
    "    rf = RandomForestRegressor(n_estimators=50, max_features='sqrt', random_state=42, max_depth=10) # tuneable parameters\n",
    "    rf.fit(train_df[features], y) # fitting random forest on train data\n",
    "\n",
    "    # testing\n",
    "    y_test = test_df.rating\n",
    "    y_pred = rf.predict(test_df[features]).astype('float')\n",
    "    print(\"Test MSE is: \" + str(mse(y_test, y_pred)))\n",
    "    \n",
    "    # see distribution of predicted joke score vs. actual joke value\n",
    "    if show_plot:\n",
    "        plot_pred_vs_actual(y_pred, y_test)\n",
    "        \n",
    "    # see what factors are most important\n",
    "    s = pd.DataFrame((rf.feature_importances_))\n",
    "\n",
    "    s = s.transpose()\n",
    "    s.columns = features\n",
    "    s = s.transpose()\n",
    "\n",
    "    print(\"15 most important features: \")\n",
    "    print(s.sort_values(by=0, ascending=False).head(15))\n",
    "    \n",
    "    ## QUERYING JOKE PREDICTIONS FOR NEW USER\n",
    "    # Need: age, gender, birth_country, major, joke_rater_id\n",
    "    \n",
    "    # using a sample user for now. when real time, just use these functions and input data into dictionary\n",
    "    sample_df = convert_sample_onehot(sample_user, df3, features)\n",
    "    preds = get_topk_jokes(sample_df, rf, features=features, joke_df=joke_df, joke_ids=joke_ids, k=num_pred_jokes)"
   ]
  },
  {
   "cell_type": "code",
   "execution_count": 35,
   "metadata": {},
   "outputs": [
    {
     "name": "stdout",
     "output_type": "stream",
     "text": [
      "79.3245471006%\n"
     ]
    },
    {
     "name": "stderr",
     "output_type": "stream",
     "text": [
      "C:\\Users\\Cindy\\Anaconda3\\lib\\site-packages\\ipykernel\\__main__.py:6: RuntimeWarning: Degrees of freedom <= 0 for slice.\n"
     ]
    },
    {
     "name": "stdout",
     "output_type": "stream",
     "text": [
      "Test MSE is: 1.72057987672\n"
     ]
    },
    {
     "data": {
      "image/png": "[encoded data removed]",
      "text/plain": [
       "<matplotlib.figure.Figure at 0x1d1db4e5f98>"
      ]
     },
     "metadata": {},
     "output_type": "display_data"
    },
    {
     "name": "stdout",
     "output_type": "stream",
     "text": [
      "15 most important features: \n",
      "                                       0\n",
      "age                             0.042478\n",
      "preferred_joke_type_Fun fact    0.036945\n",
      "birth_country_China             0.033292\n",
      "major_Physics                   0.033158\n",
      "favorite_music_genre_Classical  0.023360\n",
      "major_Statistics                0.022263\n",
      "preferred_joke_type_Dialogue    0.019424\n",
      "preferred_joke_genre2_Politics  0.018695\n",
      "favorite_music_genre_Hip-Hop    0.018591\n",
      "preferred_joke_genre_Math       0.015811\n",
      "length                          0.015718\n",
      "favorite_movie_genre_Thriller   0.015635\n",
      "tfidf22                         0.014955\n",
      "favorite_movie_genre_Superhero  0.014877\n",
      "gender_Female                   0.014702\n",
      "  joke_id     category   joke_type                      subject  \\\n",
      "0     514  Programming    Question                         Loop   \n",
      "1     515          Dad  Punch line                     Megabyte   \n",
      "2     519  Programming  Punch-line  Adding features to programs   \n",
      "3     520     Children         Pun                        Fruit   \n",
      "4     541  Programming   One-liner                  programming   \n",
      "5     544         Math    Question                  Derivatives   \n",
      "6     552    Political   one-liner                  Bureaucracy   \n",
      "7     604     Medicine  punch line                    pregnancy   \n",
      "8     649         Math  Punch line           PhD in Mathematics   \n",
      "9     658    Political   One-liner              Political Jokes   \n",
      "\n",
      "                                           joke_text      pred  \n",
      "0  Why are 'i' and 'j' a good source of informati...  3.114067  \n",
      "1  Have you heard of the band 1023MB? They haven'...  3.095906  \n",
      "2  Most people believe that if it ain't broke, do...  2.995339  \n",
      "3  My friend thinks he is smart. He told me an on...  3.299800  \n",
      "4   As a programmer, sometimes I feel a void And ...  3.033990  \n",
      "5  What's the derivative of Amazon with respect t...  3.060514  \n",
      "6  The worst part about working for the departmen...  3.025128  \n",
      "7  A man speaks frantically into the phone, \"My w...  3.062137  \n",
      "8  What is the difference between a Ph.D. in math...  3.702992  \n",
      "9  It is difficult to come up with new political ...  3.009527  \n"
     ]
    }
   ],
   "source": [
    "#main()"
   ]
  },
  {
   "cell_type": "code",
   "execution_count": null,
   "metadata": {
    "collapsed": true
   },
   "outputs": [],
   "source": [
    "if __name__ == '__main__':\n",
    "    main()"
   ]
  }
 ],
 "metadata": {
  "kernelspec": {
   "display_name": "Python 3",
   "language": "python",
   "name": "python3"
  },
  "language_info": {
   "codemirror_mode": {
    "name": "ipython",
    "version": 3
   },
   "file_extension": ".py",
   "mimetype": "text/x-python",
   "name": "python",
   "nbconvert_exporter": "python",
   "pygments_lexer": "ipython3",
   "version": "3.6.0"
  }
 },
 "nbformat": 4,
 "nbformat_minor": 2
}
