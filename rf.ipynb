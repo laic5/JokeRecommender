{
 "cells": [
  {
   "cell_type": "markdown",
   "metadata": {},
   "source": [
    "# Random Forest! :D"
   ]
  },
  {
   "cell_type": "markdown",
   "metadata": {},
   "source": [
    "### Preprocessing data"
   ]
  },
  {
   "cell_type": "code",
   "execution_count": 1,
   "metadata": {
    "collapsed": true
   },
   "outputs": [],
   "source": [
    "from sklearn.ensemble import RandomForestRegressor\n",
    "import pandas as pd\n",
    "import numpy as np\n",
    "\n",
    "from sklearn import preprocessing"
   ]
  },
  {
   "cell_type": "code",
   "execution_count": 2,
   "metadata": {
    "collapsed": true
   },
   "outputs": [],
   "source": [
    "rater_df = pd.read_csv(\"JokeRater.csv\")\n",
    "rating_df = pd.read_csv(\"JokeRating.csv\")\n",
    "joke_df = pd.read_csv(\"Joke.csv\")"
   ]
  },
  {
   "cell_type": "markdown",
   "metadata": {},
   "source": [
    "Looking at the CSVs."
   ]
  },
  {
   "cell_type": "code",
   "execution_count": 9,
   "metadata": {},
   "outputs": [
    {
     "data": {
      "text/html": [
       "<div>\n",
       "<style>\n",
       "    .dataframe thead tr:only-child th {\n",
       "        text-align: right;\n",
       "    }\n",
       "\n",
       "    .dataframe thead th {\n",
       "        text-align: left;\n",
       "    }\n",
       "\n",
       "    .dataframe tbody tr th {\n",
       "        vertical-align: top;\n",
       "    }\n",
       "</style>\n",
       "<table border=\"1\" class=\"dataframe\">\n",
       "  <thead>\n",
       "    <tr style=\"text-align: right;\">\n",
       "      <th></th>\n",
       "      <th>joke_rater_id</th>\n",
       "      <th>joke_submitter_id</th>\n",
       "      <th>gender</th>\n",
       "      <th>age</th>\n",
       "      <th>birth_country</th>\n",
       "      <th>major</th>\n",
       "      <th>preferred_joke_genre</th>\n",
       "      <th>preferred_joke_genre2</th>\n",
       "      <th>preferred_joke_type</th>\n",
       "      <th>favorite_music_genre</th>\n",
       "      <th>favorite_movie_genre</th>\n",
       "    </tr>\n",
       "  </thead>\n",
       "  <tbody>\n",
       "    <tr>\n",
       "      <th>0</th>\n",
       "      <td>453</td>\n",
       "      <td>17395</td>\n",
       "      <td>Male</td>\n",
       "      <td>20</td>\n",
       "      <td>United States</td>\n",
       "      <td>Computer Science/CSE</td>\n",
       "      <td>Nerd</td>\n",
       "      <td>School</td>\n",
       "      <td>Puns</td>\n",
       "      <td>Hip-Hop</td>\n",
       "      <td>Comedy</td>\n",
       "    </tr>\n",
       "    <tr>\n",
       "      <th>1</th>\n",
       "      <td>454</td>\n",
       "      <td>lois</td>\n",
       "      <td>Female</td>\n",
       "      <td>25</td>\n",
       "      <td>China</td>\n",
       "      <td>Physics</td>\n",
       "      <td>Animal</td>\n",
       "      <td>Math</td>\n",
       "      <td>Punch line</td>\n",
       "      <td>Pop</td>\n",
       "      <td>SciFi</td>\n",
       "    </tr>\n",
       "    <tr>\n",
       "      <th>2</th>\n",
       "      <td>455</td>\n",
       "      <td>aawhoo</td>\n",
       "      <td>Male</td>\n",
       "      <td>21</td>\n",
       "      <td>United States</td>\n",
       "      <td>Computer Science/CSE</td>\n",
       "      <td>Programming</td>\n",
       "      <td>Animal</td>\n",
       "      <td>Puns</td>\n",
       "      <td>Jazz</td>\n",
       "      <td>Thriller</td>\n",
       "    </tr>\n",
       "    <tr>\n",
       "      <th>3</th>\n",
       "      <td>456</td>\n",
       "      <td>12378954</td>\n",
       "      <td>Male</td>\n",
       "      <td>22</td>\n",
       "      <td>United States</td>\n",
       "      <td>Computer Science/CSE</td>\n",
       "      <td>Nerd</td>\n",
       "      <td>Programming</td>\n",
       "      <td>Question</td>\n",
       "      <td>Hip-Hop</td>\n",
       "      <td>SciFi</td>\n",
       "    </tr>\n",
       "    <tr>\n",
       "      <th>4</th>\n",
       "      <td>457</td>\n",
       "      <td>22118</td>\n",
       "      <td>Male</td>\n",
       "      <td>23</td>\n",
       "      <td>United States</td>\n",
       "      <td>Computer Science/CSE</td>\n",
       "      <td>Nerd</td>\n",
       "      <td>Programming</td>\n",
       "      <td>Puns</td>\n",
       "      <td>Alternative Rock</td>\n",
       "      <td>SciFi</td>\n",
       "    </tr>\n",
       "  </tbody>\n",
       "</table>\n",
       "</div>"
      ],
      "text/plain": [
       "   joke_rater_id joke_submitter_id  gender  age  birth_country  \\\n",
       "0            453             17395    Male   20  United States   \n",
       "1            454              lois  Female   25          China   \n",
       "2            455            aawhoo    Male   21  United States   \n",
       "3            456          12378954    Male   22  United States   \n",
       "4            457             22118    Male   23  United States   \n",
       "\n",
       "                  major preferred_joke_genre preferred_joke_genre2  \\\n",
       "0  Computer Science/CSE                 Nerd                School   \n",
       "1               Physics               Animal                  Math   \n",
       "2  Computer Science/CSE          Programming                Animal   \n",
       "3  Computer Science/CSE                 Nerd           Programming   \n",
       "4  Computer Science/CSE                 Nerd           Programming   \n",
       "\n",
       "  preferred_joke_type favorite_music_genre favorite_movie_genre  \n",
       "0                Puns              Hip-Hop               Comedy  \n",
       "1          Punch line                  Pop                SciFi  \n",
       "2                Puns                 Jazz             Thriller  \n",
       "3            Question              Hip-Hop                SciFi  \n",
       "4                Puns     Alternative Rock                SciFi  "
      ]
     },
     "execution_count": 9,
     "metadata": {},
     "output_type": "execute_result"
    }
   ],
   "source": [
    "rater_df.head()"
   ]
  },
  {
   "cell_type": "code",
   "execution_count": 3,
   "metadata": {
    "collapsed": true
   },
   "outputs": [],
   "source": [
    "rater_df.rename(columns = {'id':'joke_rater_id'}, inplace = True)\n",
    "joke_df.rename(columns = {'id':'joke_id'}, inplace = True)\n",
    "joke_df['joke_id'] = joke_df['joke_id'].astype(float)\n",
    "rater_df = rater_df.drop('joke_submitter_id', axis=1)\n",
    "joke_df = joke_df.drop('joke_submitter_id', axis=1)\n",
    "joke_df = joke_df.drop('joke_source', axis=1)"
   ]
  },
  {
   "cell_type": "code",
   "execution_count": 5,
   "metadata": {},
   "outputs": [
    {
     "data": {
      "text/html": [
       "<div>\n",
       "<style>\n",
       "    .dataframe thead tr:only-child th {\n",
       "        text-align: right;\n",
       "    }\n",
       "\n",
       "    .dataframe thead th {\n",
       "        text-align: left;\n",
       "    }\n",
       "\n",
       "    .dataframe tbody tr th {\n",
       "        vertical-align: top;\n",
       "    }\n",
       "</style>\n",
       "<table border=\"1\" class=\"dataframe\">\n",
       "  <thead>\n",
       "    <tr style=\"text-align: right;\">\n",
       "      <th></th>\n",
       "      <th>id</th>\n",
       "      <th>rating</th>\n",
       "      <th>joke_id</th>\n",
       "      <th>joke_rater_id</th>\n",
       "    </tr>\n",
       "  </thead>\n",
       "  <tbody>\n",
       "    <tr>\n",
       "      <th>0</th>\n",
       "      <td>43303</td>\n",
       "      <td>5</td>\n",
       "      <td>527</td>\n",
       "      <td>480</td>\n",
       "    </tr>\n",
       "    <tr>\n",
       "      <th>1</th>\n",
       "      <td>43304</td>\n",
       "      <td>1</td>\n",
       "      <td>592</td>\n",
       "      <td>480</td>\n",
       "    </tr>\n",
       "    <tr>\n",
       "      <th>2</th>\n",
       "      <td>43305</td>\n",
       "      <td>5</td>\n",
       "      <td>552</td>\n",
       "      <td>480</td>\n",
       "    </tr>\n",
       "    <tr>\n",
       "      <th>3</th>\n",
       "      <td>43306</td>\n",
       "      <td>5</td>\n",
       "      <td>588</td>\n",
       "      <td>480</td>\n",
       "    </tr>\n",
       "    <tr>\n",
       "      <th>4</th>\n",
       "      <td>43307</td>\n",
       "      <td>4</td>\n",
       "      <td>589</td>\n",
       "      <td>480</td>\n",
       "    </tr>\n",
       "  </tbody>\n",
       "</table>\n",
       "</div>"
      ],
      "text/plain": [
       "      id  rating  joke_id  joke_rater_id\n",
       "0  43303       5      527            480\n",
       "1  43304       1      592            480\n",
       "2  43305       5      552            480\n",
       "3  43306       5      588            480\n",
       "4  43307       4      589            480"
      ]
     },
     "execution_count": 5,
     "metadata": {},
     "output_type": "execute_result"
    }
   ],
   "source": [
    "rating_df.head()"
   ]
  },
  {
   "cell_type": "code",
   "execution_count": 11,
   "metadata": {},
   "outputs": [
    {
     "data": {
      "text/html": [
       "<div>\n",
       "<style>\n",
       "    .dataframe thead tr:only-child th {\n",
       "        text-align: right;\n",
       "    }\n",
       "\n",
       "    .dataframe thead th {\n",
       "        text-align: left;\n",
       "    }\n",
       "\n",
       "    .dataframe tbody tr th {\n",
       "        vertical-align: top;\n",
       "    }\n",
       "</style>\n",
       "<table border=\"1\" class=\"dataframe\">\n",
       "  <thead>\n",
       "    <tr style=\"text-align: right;\">\n",
       "      <th></th>\n",
       "      <th>id</th>\n",
       "      <th>category</th>\n",
       "      <th>joke_type</th>\n",
       "      <th>subject</th>\n",
       "      <th>joke_text</th>\n",
       "      <th>joke_submitter_id</th>\n",
       "      <th>joke_source</th>\n",
       "    </tr>\n",
       "  </thead>\n",
       "  <tbody>\n",
       "    <tr>\n",
       "      <th>0</th>\n",
       "      <td>505</td>\n",
       "      <td>Sports</td>\n",
       "      <td>pun</td>\n",
       "      <td>Tennis</td>\n",
       "      <td>Why don’t fish play tennis? Because they're af...</td>\n",
       "      <td>NaN</td>\n",
       "      <td>D94</td>\n",
       "    </tr>\n",
       "    <tr>\n",
       "      <th>1</th>\n",
       "      <td>506</td>\n",
       "      <td>Programming</td>\n",
       "      <td>One-liner</td>\n",
       "      <td>Recursion</td>\n",
       "      <td>To understand what recursion is, you must firs...</td>\n",
       "      <td>496.0</td>\n",
       "      <td>C37</td>\n",
       "    </tr>\n",
       "    <tr>\n",
       "      <th>2</th>\n",
       "      <td>507</td>\n",
       "      <td>Other</td>\n",
       "      <td>Punch-line</td>\n",
       "      <td>Onions</td>\n",
       "      <td>A lot of people cry when cutting onions. The t...</td>\n",
       "      <td>533.0</td>\n",
       "      <td>C75</td>\n",
       "    </tr>\n",
       "    <tr>\n",
       "      <th>3</th>\n",
       "      <td>508</td>\n",
       "      <td>Lawyer</td>\n",
       "      <td>punch line</td>\n",
       "      <td>east coast</td>\n",
       "      <td>Why does New Jersey have so many toxic waste d...</td>\n",
       "      <td>NaN</td>\n",
       "      <td>D80</td>\n",
       "    </tr>\n",
       "    <tr>\n",
       "      <th>4</th>\n",
       "      <td>509</td>\n",
       "      <td>School</td>\n",
       "      <td>One-liner</td>\n",
       "      <td>school</td>\n",
       "      <td>I start studying when my coffee starts kicking...</td>\n",
       "      <td>468.0</td>\n",
       "      <td>C11</td>\n",
       "    </tr>\n",
       "  </tbody>\n",
       "</table>\n",
       "</div>"
      ],
      "text/plain": [
       "    id     category   joke_type     subject  \\\n",
       "0  505       Sports         pun      Tennis   \n",
       "1  506  Programming   One-liner   Recursion   \n",
       "2  507        Other  Punch-line      Onions   \n",
       "3  508       Lawyer  punch line  east coast   \n",
       "4  509       School   One-liner      school   \n",
       "\n",
       "                                           joke_text  joke_submitter_id  \\\n",
       "0  Why don’t fish play tennis? Because they're af...                NaN   \n",
       "1  To understand what recursion is, you must firs...              496.0   \n",
       "2  A lot of people cry when cutting onions. The t...              533.0   \n",
       "3  Why does New Jersey have so many toxic waste d...                NaN   \n",
       "4  I start studying when my coffee starts kicking...              468.0   \n",
       "\n",
       "  joke_source  \n",
       "0         D94  \n",
       "1         C37  \n",
       "2         C75  \n",
       "3         D80  \n",
       "4         C11  "
      ]
     },
     "execution_count": 11,
     "metadata": {},
     "output_type": "execute_result"
    }
   ],
   "source": [
    "joke_df.head()"
   ]
  },
  {
   "cell_type": "markdown",
   "metadata": {},
   "source": [
    "Joining databases together all into one. M E R G E T I M E"
   ]
  },
  {
   "cell_type": "code",
   "execution_count": 32,
   "metadata": {},
   "outputs": [
    {
     "data": {
      "text/html": [
       "<div>\n",
       "<style scoped>\n",
       "    .dataframe tbody tr th:only-of-type {\n",
       "        vertical-align: middle;\n",
       "    }\n",
       "\n",
       "    .dataframe tbody tr th {\n",
       "        vertical-align: top;\n",
       "    }\n",
       "\n",
       "    .dataframe thead th {\n",
       "        text-align: right;\n",
       "    }\n",
       "</style>\n",
       "<table border=\"1\" class=\"dataframe\">\n",
       "  <thead>\n",
       "    <tr style=\"text-align: right;\">\n",
       "      <th></th>\n",
       "      <th>rating</th>\n",
       "      <th>joke_id</th>\n",
       "      <th>joke_rater_id</th>\n",
       "      <th>gender</th>\n",
       "      <th>age</th>\n",
       "      <th>birth_country</th>\n",
       "      <th>major</th>\n",
       "      <th>preferred_joke_genre</th>\n",
       "      <th>preferred_joke_genre2</th>\n",
       "      <th>preferred_joke_type</th>\n",
       "      <th>favorite_music_genre</th>\n",
       "      <th>favorite_movie_genre</th>\n",
       "      <th>category</th>\n",
       "      <th>joke_type</th>\n",
       "      <th>subject</th>\n",
       "      <th>joke_text</th>\n",
       "    </tr>\n",
       "  </thead>\n",
       "  <tbody>\n",
       "    <tr>\n",
       "      <th>0</th>\n",
       "      <td>5.0</td>\n",
       "      <td>527.0</td>\n",
       "      <td>480</td>\n",
       "      <td>Female</td>\n",
       "      <td>24</td>\n",
       "      <td>Taiwan</td>\n",
       "      <td>Statistics</td>\n",
       "      <td>Math</td>\n",
       "      <td>Programming</td>\n",
       "      <td>Question</td>\n",
       "      <td>Rock</td>\n",
       "      <td>Horror</td>\n",
       "      <td>School</td>\n",
       "      <td>Question</td>\n",
       "      <td>cheerleaders</td>\n",
       "      <td>What did the cheerleader say when she was give...</td>\n",
       "    </tr>\n",
       "    <tr>\n",
       "      <th>1</th>\n",
       "      <td>4.0</td>\n",
       "      <td>527.0</td>\n",
       "      <td>503</td>\n",
       "      <td>Female</td>\n",
       "      <td>21</td>\n",
       "      <td>Taiwan</td>\n",
       "      <td>Computer Science/CSE</td>\n",
       "      <td>Programming</td>\n",
       "      <td>School</td>\n",
       "      <td>Pick-up Line</td>\n",
       "      <td>Hip-Hop</td>\n",
       "      <td>Thriller</td>\n",
       "      <td>School</td>\n",
       "      <td>Question</td>\n",
       "      <td>cheerleaders</td>\n",
       "      <td>What did the cheerleader say when she was give...</td>\n",
       "    </tr>\n",
       "    <tr>\n",
       "      <th>2</th>\n",
       "      <td>2.0</td>\n",
       "      <td>527.0</td>\n",
       "      <td>476</td>\n",
       "      <td>Male</td>\n",
       "      <td>23</td>\n",
       "      <td>United States</td>\n",
       "      <td>Computer Science/CSE</td>\n",
       "      <td>Nerd</td>\n",
       "      <td>Programming</td>\n",
       "      <td>One-Liner</td>\n",
       "      <td>Rock</td>\n",
       "      <td>SciFi</td>\n",
       "      <td>School</td>\n",
       "      <td>Question</td>\n",
       "      <td>cheerleaders</td>\n",
       "      <td>What did the cheerleader say when she was give...</td>\n",
       "    </tr>\n",
       "    <tr>\n",
       "      <th>3</th>\n",
       "      <td>1.0</td>\n",
       "      <td>527.0</td>\n",
       "      <td>462</td>\n",
       "      <td>Male</td>\n",
       "      <td>26</td>\n",
       "      <td>United States</td>\n",
       "      <td>Statistics</td>\n",
       "      <td>Programming</td>\n",
       "      <td>Math</td>\n",
       "      <td>Puns</td>\n",
       "      <td>Hip-Hop</td>\n",
       "      <td>Documentary</td>\n",
       "      <td>School</td>\n",
       "      <td>Question</td>\n",
       "      <td>cheerleaders</td>\n",
       "      <td>What did the cheerleader say when she was give...</td>\n",
       "    </tr>\n",
       "    <tr>\n",
       "      <th>4</th>\n",
       "      <td>2.0</td>\n",
       "      <td>527.0</td>\n",
       "      <td>547</td>\n",
       "      <td>Male</td>\n",
       "      <td>30</td>\n",
       "      <td>United States</td>\n",
       "      <td>Statistics</td>\n",
       "      <td>Other</td>\n",
       "      <td>Politics</td>\n",
       "      <td>Dialogue</td>\n",
       "      <td>Rap</td>\n",
       "      <td>Comedy</td>\n",
       "      <td>School</td>\n",
       "      <td>Question</td>\n",
       "      <td>cheerleaders</td>\n",
       "      <td>What did the cheerleader say when she was give...</td>\n",
       "    </tr>\n",
       "  </tbody>\n",
       "</table>\n",
       "</div>"
      ],
      "text/plain": [
       "   rating  joke_id  joke_rater_id  gender  age  birth_country  \\\n",
       "0     5.0    527.0            480  Female   24         Taiwan   \n",
       "1     4.0    527.0            503  Female   21         Taiwan   \n",
       "2     2.0    527.0            476    Male   23  United States   \n",
       "3     1.0    527.0            462    Male   26  United States   \n",
       "4     2.0    527.0            547    Male   30  United States   \n",
       "\n",
       "                  major preferred_joke_genre preferred_joke_genre2  \\\n",
       "0            Statistics                 Math           Programming   \n",
       "1  Computer Science/CSE          Programming                School   \n",
       "2  Computer Science/CSE                 Nerd           Programming   \n",
       "3            Statistics          Programming                  Math   \n",
       "4            Statistics                Other              Politics   \n",
       "\n",
       "  preferred_joke_type favorite_music_genre favorite_movie_genre category  \\\n",
       "0            Question                 Rock               Horror   School   \n",
       "1        Pick-up Line              Hip-Hop             Thriller   School   \n",
       "2           One-Liner                 Rock                SciFi   School   \n",
       "3                Puns              Hip-Hop          Documentary   School   \n",
       "4            Dialogue                  Rap               Comedy   School   \n",
       "\n",
       "  joke_type       subject                                          joke_text  \n",
       "0  Question  cheerleaders  What did the cheerleader say when she was give...  \n",
       "1  Question  cheerleaders  What did the cheerleader say when she was give...  \n",
       "2  Question  cheerleaders  What did the cheerleader say when she was give...  \n",
       "3  Question  cheerleaders  What did the cheerleader say when she was give...  \n",
       "4  Question  cheerleaders  What did the cheerleader say when she was give...  "
      ]
     },
     "execution_count": 32,
     "metadata": {},
     "output_type": "execute_result"
    }
   ],
   "source": [
    "df = pd.merge(rating_df, rater_df, on=\"joke_rater_id\", how=\"outer\")\n",
    "df = df.drop('id', axis=1)\n",
    "\n",
    "df = pd.merge(df, joke_df, on='joke_id', how='outer')\n",
    "df.head()"
   ]
  },
  {
   "cell_type": "markdown",
   "metadata": {},
   "source": [
    "#### Deal with NA's."
   ]
  },
  {
   "cell_type": "code",
   "execution_count": 10,
   "metadata": {},
   "outputs": [
    {
     "data": {
      "text/plain": [
       "(14338, 16)"
      ]
     },
     "execution_count": 10,
     "metadata": {},
     "output_type": "execute_result"
    }
   ],
   "source": [
    "df.shape"
   ]
  },
  {
   "cell_type": "code",
   "execution_count": 9,
   "metadata": {},
   "outputs": [
    {
     "data": {
      "text/plain": [
       "2104"
      ]
     },
     "execution_count": 9,
     "metadata": {},
     "output_type": "execute_result"
    }
   ],
   "source": [
    "df.shape[0] - df.dropna().shape[0]"
   ]
  },
  {
   "cell_type": "code",
   "execution_count": 17,
   "metadata": {},
   "outputs": [
    {
     "data": {
      "text/plain": [
       "343"
      ]
     },
     "execution_count": 17,
     "metadata": {},
     "output_type": "execute_result"
    }
   ],
   "source": [
    "sum(df.isnull().sum(axis=1) > 2)"
   ]
  },
  {
   "cell_type": "code",
   "execution_count": 19,
   "metadata": {},
   "outputs": [
    {
     "data": {
      "text/plain": [
       "Int64Index([   13,    69,   107,   165,   203,   259,   296,   349,   387,\n",
       "              443,\n",
       "            ...\n",
       "            14328, 14329, 14330, 14331, 14332, 14333, 14334, 14335, 14336,\n",
       "            14337],\n",
       "           dtype='int64', length=343)"
      ]
     },
     "execution_count": 19,
     "metadata": {},
     "output_type": "execute_result"
    }
   ],
   "source": [
    "df[df.isnull().sum(axis=1) > 2].index"
   ]
  },
  {
   "cell_type": "code",
   "execution_count": 33,
   "metadata": {
    "collapsed": true
   },
   "outputs": [],
   "source": [
    "which_drop = df[df.isnull().sum(axis=1) > 2].index\n",
    "new_df = df.drop(which_drop)\n",
    "#new_df.isnull().sum()"
   ]
  },
  {
   "cell_type": "markdown",
   "metadata": {},
   "source": [
    "Replace NaN categories by Mode."
   ]
  },
  {
   "cell_type": "code",
   "execution_count": 34,
   "metadata": {},
   "outputs": [
    {
     "data": {
      "text/plain": [
       "rating                     0\n",
       "joke_id                    0\n",
       "joke_rater_id              0\n",
       "gender                     0\n",
       "age                        0\n",
       "birth_country              0\n",
       "major                      0\n",
       "preferred_joke_genre       0\n",
       "preferred_joke_genre2      0\n",
       "preferred_joke_type        0\n",
       "favorite_music_genre       0\n",
       "favorite_movie_genre       0\n",
       "category                   0\n",
       "joke_type                 88\n",
       "subject                  174\n",
       "joke_text                  0\n",
       "dtype: int64"
      ]
     },
     "execution_count": 34,
     "metadata": {},
     "output_type": "execute_result"
    }
   ],
   "source": [
    "modes = new_df.mode()\n",
    "new_df.birth_country = new_df.birth_country.fillna(\"United States\")\n",
    "new_df.preferred_joke_type = new_df.preferred_joke_type.fillna(\"Puns\")\n",
    "new_df.preferred_joke_genre2 = new_df.preferred_joke_genre.fillna(\"Programming\")\n",
    "new_df.isnull().sum()"
   ]
  },
  {
   "cell_type": "markdown",
   "metadata": {},
   "source": [
    "Joke subject should be taken care of from the Features team."
   ]
  },
  {
   "cell_type": "markdown",
   "metadata": {},
   "source": [
    "Found that Joke Type is null for the same joke. Remove those jokes."
   ]
  },
  {
   "cell_type": "code",
   "execution_count": 35,
   "metadata": {},
   "outputs": [
    {
     "data": {
      "text/plain": [
       "Int64Index([8906, 8907, 8908, 8909, 8910, 8911, 8912, 8913, 8914, 8915, 8916,\n",
       "            8917, 8918, 8920, 8921, 8922, 8923, 8924, 8925, 8926, 8927, 8928,\n",
       "            8929, 8930, 8931, 8932, 8933, 8934, 8935, 8936, 8937, 8938, 8940,\n",
       "            8941, 8942, 8943, 8944, 8945, 8946, 8947, 8949, 8950, 8951, 8952,\n",
       "            8954, 8955, 8956, 8957, 8958, 8959, 8960, 8961, 8962, 8963, 8964,\n",
       "            8965, 8966, 8967, 8968, 8969, 8970, 8971, 8972, 8973, 8974, 8975,\n",
       "            8977, 8978, 8979, 8980, 8981, 8982, 8983, 8984, 8986, 8987, 8988,\n",
       "            8989, 8990, 8991, 8992, 8993, 8994, 8995, 8997, 8998, 8999, 9000],\n",
       "           dtype='int64')"
      ]
     },
     "execution_count": 35,
     "metadata": {},
     "output_type": "execute_result"
    }
   ],
   "source": [
    "new_df[new_df.joke_type.isnull() == True].index"
   ]
  },
  {
   "cell_type": "code",
   "execution_count": 37,
   "metadata": {
    "collapsed": true
   },
   "outputs": [],
   "source": [
    "new_df = new_df.drop(new_df[new_df.joke_type.isnull() == True].index)\n",
    "new_df.subject = new_df.subject.fillna('0')"
   ]
  },
  {
   "cell_type": "code",
   "execution_count": 109,
   "metadata": {
    "collapsed": true
   },
   "outputs": [],
   "source": [
    "## IGNORE FOR NOW\n",
    "\n",
    "def string_to_label(series):\n",
    "    # code strings into integers to feed into one-hot encoder\n",
    "    enc = preprocessing.LabelEncoder()\n",
    "    enc.fit(series)\n",
    "    new_series = enc.transform(series)\n",
    "    \n",
    "    return new_series\n",
    "\n",
    "def convert_one_hot(series):\n",
    "    # convert label to one-hot\n",
    "    encoder = preprocessing.OneHotEncoder(sparse=False)\n",
    "    encoder.fit(series)\n",
    "    one_hot = encoder.transform(series)\n",
    "    return one_hot\n",
    "\n",
    "\n",
    "# don't use encoding anymore\n",
    "for i in string_col:\n",
    "    new_df.iloc[:,i] = string_to_label(new_df.iloc[:,i])\n",
    "    #new_df.iloc[:,i] = convert_one_hot(new_df.iloc[:,i])"
   ]
  },
  {
   "cell_type": "code",
   "execution_count": 38,
   "metadata": {
    "collapsed": true
   },
   "outputs": [],
   "source": [
    "string_col = [3, 5, 6, 7, 8, 9, 10, 11, 12, 13]\n",
    "#new_df.iloc[:,string_col] = pd.get_dummies(new_df.iloc[:,string_col])"
   ]
  },
  {
   "cell_type": "code",
   "execution_count": 9,
   "metadata": {
    "collapsed": true
   },
   "outputs": [],
   "source": [
    "not_string = []\n",
    "for i in range(16):\n",
    "    if i not in string_col:\n",
    "        not_string.append(i)"
   ]
  },
  {
   "cell_type": "code",
   "execution_count": 36,
   "metadata": {},
   "outputs": [
    {
     "name": "stdout",
     "output_type": "stream",
     "text": [
      "[ 0.08994325  0.15854519  0.21172696  0.25856552  0.30216484  0.33947001\n",
      "  0.37294185  0.40281283  0.43221501  0.46037925  0.48821325  0.5149773\n",
      "  0.54029729  0.56270698  0.58503571  0.60565322  0.62559617  0.64530512\n",
      "  0.66362641  0.68152021  0.69837124  0.71434874  0.72991044  0.74501431\n",
      "  0.75907251  0.77222244  0.7837395   0.79503195  0.805829    0.81586818\n",
      "  0.82558837  0.8345564   0.84339268  0.85176975  0.85948096  0.86705236\n",
      "  0.87428693  0.88125452  0.88818648  0.89507541  0.90147443  0.90753654\n",
      "  0.91325158  0.91876584  0.92408241  0.92887976  0.93346654  0.93797597\n",
      "  0.94218894  0.94621605  0.95015725]\n"
     ]
    }
   ],
   "source": [
    "# ignore for now\n",
    "from sklearn.decomposition import PCA\n",
    "pca = PCA(n_components=(8*6 + 3))\n",
    "X = pd.get_dummies(new_df.iloc[:,string_col])\n",
    "pca.fit(X)\n",
    "ar = pca.explained_variance_ratio_\n",
    "print(np.cumsum(ar))\n",
    "reduced_dummies = pca.fit_transform(X) # reduced from 106 to 51"
   ]
  },
  {
   "cell_type": "code",
   "execution_count": 40,
   "metadata": {},
   "outputs": [],
   "source": [
    "new_df2 = pd.concat([new_df.iloc[:,not_string], pd.get_dummies(new_df.iloc[:,string_col])], axis=1)"
   ]
  },
  {
   "cell_type": "markdown",
   "metadata": {},
   "source": [
    "### Random Forest implementation"
   ]
  },
  {
   "cell_type": "code",
   "execution_count": 42,
   "metadata": {},
   "outputs": [
    {
     "data": {
      "text/plain": [
       "RandomForestRegressor(bootstrap=True, criterion='mse', max_depth=None,\n",
       "           max_features='auto', max_leaf_nodes=None,\n",
       "           min_impurity_decrease=0.0, min_impurity_split=None,\n",
       "           min_samples_leaf=1, min_samples_split=2,\n",
       "           min_weight_fraction_leaf=0.0, n_estimators=10, n_jobs=1,\n",
       "           oob_score=False, random_state=None, verbose=0, warm_start=False)"
      ]
     },
     "execution_count": 42,
     "metadata": {},
     "output_type": "execute_result"
    }
   ],
   "source": [
    "y = new_df2.rating\n",
    "Y_list = list(y.values)\n",
    "cols = [i for j in (range(3, 4), range(6, 112)) for i in j] # excluding text, subject, and ID's\n",
    "features = new_df2.columns[cols]\n",
    "\n",
    "rf = RandomForestRegressor()\n",
    "rf.fit(new_df2[features], y)"
   ]
  },
  {
   "cell_type": "code",
   "execution_count": 51,
   "metadata": {},
   "outputs": [
    {
     "data": {
      "text/plain": [
       "array([ 5.        ,  4.6       ,  2.53166667, ...,  2.74027778,\n",
       "        2.08031746,  3.32797619])"
      ]
     },
     "execution_count": 51,
     "metadata": {},
     "output_type": "execute_result"
    }
   ],
   "source": [
    "# predicting on the SAME data, just to test it out\n",
    "rf.predict(new_df2[features]).astype('float')"
   ]
  },
  {
   "cell_type": "code",
   "execution_count": 58,
   "metadata": {
    "collapsed": true
   },
   "outputs": [],
   "source": [
    "def mse(predicted, real):\n",
    "    real = np.array(real)\n",
    "    predicted = np.array(predicted)\n",
    "    temp =  (real - predicted) * (real - predicted)\n",
    "    mse = 0.5 * sum(temp)\n",
    "    return mse"
   ]
  },
  {
   "cell_type": "code",
   "execution_count": 59,
   "metadata": {},
   "outputs": [
    {
     "data": {
      "text/plain": [
       "4770.1821673622535"
      ]
     },
     "execution_count": 59,
     "metadata": {},
     "output_type": "execute_result"
    }
   ],
   "source": [
    "mse(y, rf.predict(new_df2[features]).astype('float'))"
   ]
  },
  {
   "cell_type": "markdown",
   "metadata": {},
   "source": [
    "Time to do some training and testing split."
   ]
  },
  {
   "cell_type": "code",
   "execution_count": 61,
   "metadata": {
    "collapsed": true
   },
   "outputs": [],
   "source": [
    "import sklearn.model_selection\n",
    "\n",
    "X = new_df2[features]\n",
    "X_train, X_test, y_train, y_test = sklearn.model_selection.train_test_split(X, y, test_size=0.30, random_state=42)"
   ]
  },
  {
   "cell_type": "markdown",
   "metadata": {},
   "source": [
    "<b>Regression on the Training/Test data</b>"
   ]
  },
  {
   "cell_type": "code",
   "execution_count": 93,
   "metadata": {},
   "outputs": [
    {
     "data": {
      "text/plain": [
       "2690.1267673018529"
      ]
     },
     "execution_count": 93,
     "metadata": {},
     "output_type": "execute_result"
    }
   ],
   "source": [
    "rf2 = RandomForestRegressor(n_estimators=30, max_features='sqrt', random_state=42, max_depth=15)\n",
    "rf2.fit(X_train, list(y_train))\n",
    "\n",
    "rf2.predict(X_test).astype('float')\n",
    "mse(y_test, rf2.predict(X_test).astype('float'))"
   ]
  },
  {
   "cell_type": "code",
   "execution_count": 107,
   "metadata": {},
   "outputs": [
    {
     "data": {
      "image/png": "[encoded data removed]",
      "text/plain": [
       "<matplotlib.figure.Figure at 0x210e9202eb8>"
      ]
     },
     "metadata": {},
     "output_type": "display_data"
    }
   ],
   "source": [
    "import seaborn as sns; sns.set(color_codes=True)\n",
    "import matplotlib.pyplot as plt\n",
    "ax = sns.regplot(x=y_test, y=rf2.predict(X_test).astype('float'), scatter_kws={'alpha':0.1})\n",
    "plt.xlabel(\"Actual\")\n",
    "plt.ylabel(\"Predicted\")\n",
    "plt.title(\"Predicted Rating vs. Actual Rating\")\n",
    "plt.show()"
   ]
  },
  {
   "cell_type": "code",
   "execution_count": 67,
   "metadata": {
    "collapsed": true
   },
   "outputs": [],
   "source": [
    "# see what factors are most important\n",
    "s = pd.DataFrame((rf2.feature_importances_))"
   ]
  },
  {
   "cell_type": "code",
   "execution_count": 68,
   "metadata": {
    "collapsed": true
   },
   "outputs": [],
   "source": [
    "s = s.transpose()\n",
    "s.columns = features\n",
    "s = s.transpose()"
   ]
  },
  {
   "cell_type": "code",
   "execution_count": 75,
   "metadata": {},
   "outputs": [
    {
     "data": {
      "text/html": [
       "<div>\n",
       "<style>\n",
       "    .dataframe thead tr:only-child th {\n",
       "        text-align: right;\n",
       "    }\n",
       "\n",
       "    .dataframe thead th {\n",
       "        text-align: left;\n",
       "    }\n",
       "\n",
       "    .dataframe tbody tr th {\n",
       "        vertical-align: top;\n",
       "    }\n",
       "</style>\n",
       "<table border=\"1\" class=\"dataframe\">\n",
       "  <thead>\n",
       "    <tr style=\"text-align: right;\">\n",
       "      <th></th>\n",
       "      <th>0</th>\n",
       "    </tr>\n",
       "  </thead>\n",
       "  <tbody>\n",
       "    <tr>\n",
       "      <th>age</th>\n",
       "      <td>0.060771</td>\n",
       "    </tr>\n",
       "    <tr>\n",
       "      <th>category_Programming</th>\n",
       "      <td>0.034482</td>\n",
       "    </tr>\n",
       "    <tr>\n",
       "      <th>joke_type_One-liner</th>\n",
       "      <td>0.031600</td>\n",
       "    </tr>\n",
       "    <tr>\n",
       "      <th>joke_type_Question</th>\n",
       "      <td>0.030016</td>\n",
       "    </tr>\n",
       "    <tr>\n",
       "      <th>joke_type_Pun</th>\n",
       "      <td>0.028311</td>\n",
       "    </tr>\n",
       "    <tr>\n",
       "      <th>joke_type_pun</th>\n",
       "      <td>0.025327</td>\n",
       "    </tr>\n",
       "    <tr>\n",
       "      <th>category_Other</th>\n",
       "      <td>0.025174</td>\n",
       "    </tr>\n",
       "    <tr>\n",
       "      <th>joke_type_Dialogue</th>\n",
       "      <td>0.024713</td>\n",
       "    </tr>\n",
       "    <tr>\n",
       "      <th>category_Math</th>\n",
       "      <td>0.024648</td>\n",
       "    </tr>\n",
       "    <tr>\n",
       "      <th>category_Animal</th>\n",
       "      <td>0.023490</td>\n",
       "    </tr>\n",
       "    <tr>\n",
       "      <th>birth_country_China</th>\n",
       "      <td>0.022203</td>\n",
       "    </tr>\n",
       "    <tr>\n",
       "      <th>preferred_joke_type_Puns</th>\n",
       "      <td>0.021283</td>\n",
       "    </tr>\n",
       "    <tr>\n",
       "      <th>category_School</th>\n",
       "      <td>0.021266</td>\n",
       "    </tr>\n",
       "    <tr>\n",
       "      <th>favorite_movie_genre_Mystery</th>\n",
       "      <td>0.020901</td>\n",
       "    </tr>\n",
       "    <tr>\n",
       "      <th>joke_type_other</th>\n",
       "      <td>0.020578</td>\n",
       "    </tr>\n",
       "    <tr>\n",
       "      <th>category_Nerd</th>\n",
       "      <td>0.020395</td>\n",
       "    </tr>\n",
       "    <tr>\n",
       "      <th>joke_type_Punch-line</th>\n",
       "      <td>0.018587</td>\n",
       "    </tr>\n",
       "    <tr>\n",
       "      <th>joke_type_Punch line</th>\n",
       "      <td>0.017864</td>\n",
       "    </tr>\n",
       "    <tr>\n",
       "      <th>category_Children</th>\n",
       "      <td>0.016925</td>\n",
       "    </tr>\n",
       "    <tr>\n",
       "      <th>category_Sports</th>\n",
       "      <td>0.015740</td>\n",
       "    </tr>\n",
       "    <tr>\n",
       "      <th>category_Medicine</th>\n",
       "      <td>0.015628</td>\n",
       "    </tr>\n",
       "    <tr>\n",
       "      <th>joke_type_Other</th>\n",
       "      <td>0.015346</td>\n",
       "    </tr>\n",
       "    <tr>\n",
       "      <th>favorite_music_genre_Rap</th>\n",
       "      <td>0.014822</td>\n",
       "    </tr>\n",
       "    <tr>\n",
       "      <th>favorite_movie_genre_Action</th>\n",
       "      <td>0.014689</td>\n",
       "    </tr>\n",
       "    <tr>\n",
       "      <th>category_Medicine/Doctor</th>\n",
       "      <td>0.014450</td>\n",
       "    </tr>\n",
       "    <tr>\n",
       "      <th>favorite_music_genre_Alternative Rock</th>\n",
       "      <td>0.014169</td>\n",
       "    </tr>\n",
       "    <tr>\n",
       "      <th>preferred_joke_type_Fun fact</th>\n",
       "      <td>0.013959</td>\n",
       "    </tr>\n",
       "    <tr>\n",
       "      <th>preferred_joke_type_Dialogue</th>\n",
       "      <td>0.013720</td>\n",
       "    </tr>\n",
       "    <tr>\n",
       "      <th>category_Political</th>\n",
       "      <td>0.012766</td>\n",
       "    </tr>\n",
       "    <tr>\n",
       "      <th>major_Physics</th>\n",
       "      <td>0.012511</td>\n",
       "    </tr>\n",
       "    <tr>\n",
       "      <th>...</th>\n",
       "      <td>...</td>\n",
       "    </tr>\n",
       "    <tr>\n",
       "      <th>preferred_joke_genre2_School</th>\n",
       "      <td>0.001658</td>\n",
       "    </tr>\n",
       "    <tr>\n",
       "      <th>preferred_joke_genre_School</th>\n",
       "      <td>0.001616</td>\n",
       "    </tr>\n",
       "    <tr>\n",
       "      <th>birth_country_Ukraine</th>\n",
       "      <td>0.001406</td>\n",
       "    </tr>\n",
       "    <tr>\n",
       "      <th>preferred_joke_genre2_Animal</th>\n",
       "      <td>0.001235</td>\n",
       "    </tr>\n",
       "    <tr>\n",
       "      <th>birth_country_Israel</th>\n",
       "      <td>0.001093</td>\n",
       "    </tr>\n",
       "    <tr>\n",
       "      <th>preferred_joke_genre2_Sports</th>\n",
       "      <td>0.001016</td>\n",
       "    </tr>\n",
       "    <tr>\n",
       "      <th>preferred_joke_genre_Animal</th>\n",
       "      <td>0.000934</td>\n",
       "    </tr>\n",
       "    <tr>\n",
       "      <th>favorite_movie_genre_Horror</th>\n",
       "      <td>0.000928</td>\n",
       "    </tr>\n",
       "    <tr>\n",
       "      <th>preferred_joke_type_Pick-up Line</th>\n",
       "      <td>0.000839</td>\n",
       "    </tr>\n",
       "    <tr>\n",
       "      <th>preferred_joke_genre_Sports</th>\n",
       "      <td>0.000794</td>\n",
       "    </tr>\n",
       "    <tr>\n",
       "      <th>major_Math</th>\n",
       "      <td>0.000794</td>\n",
       "    </tr>\n",
       "    <tr>\n",
       "      <th>birth_country_Vietnam</th>\n",
       "      <td>0.000793</td>\n",
       "    </tr>\n",
       "    <tr>\n",
       "      <th>major_Electrical Engineering</th>\n",
       "      <td>0.000659</td>\n",
       "    </tr>\n",
       "    <tr>\n",
       "      <th>birth_country_Belarus</th>\n",
       "      <td>0.000607</td>\n",
       "    </tr>\n",
       "    <tr>\n",
       "      <th>birth_country_Netherlands</th>\n",
       "      <td>0.000564</td>\n",
       "    </tr>\n",
       "    <tr>\n",
       "      <th>preferred_joke_genre_Medicine/Doctor</th>\n",
       "      <td>0.000517</td>\n",
       "    </tr>\n",
       "    <tr>\n",
       "      <th>birth_country_El Salvador</th>\n",
       "      <td>0.000512</td>\n",
       "    </tr>\n",
       "    <tr>\n",
       "      <th>favorite_music_genre_Blues</th>\n",
       "      <td>0.000510</td>\n",
       "    </tr>\n",
       "    <tr>\n",
       "      <th>birth_country_Taiwan</th>\n",
       "      <td>0.000421</td>\n",
       "    </tr>\n",
       "    <tr>\n",
       "      <th>birth_country_Korea South</th>\n",
       "      <td>0.000396</td>\n",
       "    </tr>\n",
       "    <tr>\n",
       "      <th>birth_country_Thailand</th>\n",
       "      <td>0.000354</td>\n",
       "    </tr>\n",
       "    <tr>\n",
       "      <th>favorite_movie_genre_Family</th>\n",
       "      <td>0.000346</td>\n",
       "    </tr>\n",
       "    <tr>\n",
       "      <th>major_EE/CE</th>\n",
       "      <td>0.000320</td>\n",
       "    </tr>\n",
       "    <tr>\n",
       "      <th>birth_country_Peru</th>\n",
       "      <td>0.000296</td>\n",
       "    </tr>\n",
       "    <tr>\n",
       "      <th>favorite_movie_genre_Indie</th>\n",
       "      <td>0.000281</td>\n",
       "    </tr>\n",
       "    <tr>\n",
       "      <th>birth_country_Hong Kong</th>\n",
       "      <td>0.000232</td>\n",
       "    </tr>\n",
       "    <tr>\n",
       "      <th>preferred_joke_genre2_Medicine/Doctor</th>\n",
       "      <td>0.000218</td>\n",
       "    </tr>\n",
       "    <tr>\n",
       "      <th>birth_country_Iran</th>\n",
       "      <td>0.000194</td>\n",
       "    </tr>\n",
       "    <tr>\n",
       "      <th>birth_country_Philippines</th>\n",
       "      <td>0.000167</td>\n",
       "    </tr>\n",
       "    <tr>\n",
       "      <th>major_Electrical</th>\n",
       "      <td>0.000159</td>\n",
       "    </tr>\n",
       "  </tbody>\n",
       "</table>\n",
       "<p>107 rows × 1 columns</p>\n",
       "</div>"
      ],
      "text/plain": [
       "                                              0\n",
       "age                                    0.060771\n",
       "category_Programming                   0.034482\n",
       "joke_type_One-liner                    0.031600\n",
       "joke_type_Question                     0.030016\n",
       "joke_type_Pun                          0.028311\n",
       "joke_type_pun                          0.025327\n",
       "category_Other                         0.025174\n",
       "joke_type_Dialogue                     0.024713\n",
       "category_Math                          0.024648\n",
       "category_Animal                        0.023490\n",
       "birth_country_China                    0.022203\n",
       "preferred_joke_type_Puns               0.021283\n",
       "category_School                        0.021266\n",
       "favorite_movie_genre_Mystery           0.020901\n",
       "joke_type_other                        0.020578\n",
       "category_Nerd                          0.020395\n",
       "joke_type_Punch-line                   0.018587\n",
       "joke_type_Punch line                   0.017864\n",
       "category_Children                      0.016925\n",
       "category_Sports                        0.015740\n",
       "category_Medicine                      0.015628\n",
       "joke_type_Other                        0.015346\n",
       "favorite_music_genre_Rap               0.014822\n",
       "favorite_movie_genre_Action            0.014689\n",
       "category_Medicine/Doctor               0.014450\n",
       "favorite_music_genre_Alternative Rock  0.014169\n",
       "preferred_joke_type_Fun fact           0.013959\n",
       "preferred_joke_type_Dialogue           0.013720\n",
       "category_Political                     0.012766\n",
       "major_Physics                          0.012511\n",
       "...                                         ...\n",
       "preferred_joke_genre2_School           0.001658\n",
       "preferred_joke_genre_School            0.001616\n",
       "birth_country_Ukraine                  0.001406\n",
       "preferred_joke_genre2_Animal           0.001235\n",
       "birth_country_Israel                   0.001093\n",
       "preferred_joke_genre2_Sports           0.001016\n",
       "preferred_joke_genre_Animal            0.000934\n",
       "favorite_movie_genre_Horror            0.000928\n",
       "preferred_joke_type_Pick-up Line       0.000839\n",
       "preferred_joke_genre_Sports            0.000794\n",
       "major_Math                             0.000794\n",
       "birth_country_Vietnam                  0.000793\n",
       "major_Electrical Engineering           0.000659\n",
       "birth_country_Belarus                  0.000607\n",
       "birth_country_Netherlands              0.000564\n",
       "preferred_joke_genre_Medicine/Doctor   0.000517\n",
       "birth_country_El Salvador              0.000512\n",
       "favorite_music_genre_Blues             0.000510\n",
       "birth_country_Taiwan                   0.000421\n",
       "birth_country_Korea South              0.000396\n",
       "birth_country_Thailand                 0.000354\n",
       "favorite_movie_genre_Family            0.000346\n",
       "major_EE/CE                            0.000320\n",
       "birth_country_Peru                     0.000296\n",
       "favorite_movie_genre_Indie             0.000281\n",
       "birth_country_Hong Kong                0.000232\n",
       "preferred_joke_genre2_Medicine/Doctor  0.000218\n",
       "birth_country_Iran                     0.000194\n",
       "birth_country_Philippines              0.000167\n",
       "major_Electrical                       0.000159\n",
       "\n",
       "[107 rows x 1 columns]"
      ]
     },
     "execution_count": 75,
     "metadata": {},
     "output_type": "execute_result"
    }
   ],
   "source": [
    "s.sort_values(by=0, ascending=False) # lots of programming jokes and people who liked programming"
   ]
  },
  {
   "cell_type": "code",
   "execution_count": 124,
   "metadata": {},
   "outputs": [
    {
     "name": "stdout",
     "output_type": "stream",
     "text": [
      "2666.25834457\n"
     ]
    },
    {
     "data": {
      "image/png": "[encoded data removed]",
      "text/plain": [
       "<matplotlib.figure.Figure at 0x210e93665f8>"
      ]
     },
     "metadata": {},
     "output_type": "display_data"
    }
   ],
   "source": [
    "# using label encoding instead -- is not technically right since there's correlation between numerical encoding and regression\n",
    "y = new_df.rating\n",
    "Y_list = list(y.values)\n",
    "cols = range(3, 14) # excluding text, subject, and ID's\n",
    "features = new_df.columns[cols]\n",
    "\n",
    "X = new_df[features]\n",
    "X_train, X_test, y_train, y_test = sklearn.model_selection.train_test_split(X, y, test_size=0.30, random_state=42)\n",
    "\n",
    "rf3 = RandomForestRegressor(n_estimators=50, max_features='auto', random_state=42, max_depth=10)\n",
    "rf3.fit(X_train, list(y_train))\n",
    "\n",
    "rf3.predict(X_test).astype('float')\n",
    "print(mse(y_test, rf3.predict(X_test).astype('float')))\n",
    "ax2 = sns.regplot(x=y_test, y=rf3.predict(X_test).astype('float'), scatter_kws={'alpha':0.1})\n",
    "plt.xlabel(\"Actual\")\n",
    "plt.ylabel(\"Predicted\")\n",
    "plt.title(\"Predicted Rating vs. Actual Rating\")\n",
    "plt.show()"
   ]
  }
 ],
 "metadata": {
  "kernelspec": {
   "display_name": "Python 3",
   "language": "python",
   "name": "python3"
  },
  "language_info": {
   "codemirror_mode": {
    "name": "ipython",
    "version": 3
   },
   "file_extension": ".py",
   "mimetype": "text/x-python",
   "name": "python",
   "nbconvert_exporter": "python",
   "pygments_lexer": "ipython3",
   "version": "3.6.0"
  }
 },
 "nbformat": 4,
 "nbformat_minor": 2
}
