{
 "cells": [
  {
   "cell_type": "markdown",
   "metadata": {},
   "source": [
    "# Random Forest! :D"
   ]
  },
  {
   "cell_type": "markdown",
   "metadata": {},
   "source": [
    "### Preprocessing data"
   ]
  },
  {
   "cell_type": "code",
   "execution_count": 1,
   "metadata": {},
   "outputs": [],
   "source": [
    "from sklearn.ensemble import RandomForestRegressor\n",
    "import pandas as pd\n",
    "import numpy as np\n",
    "\n",
    "import random\n",
    "from sklearn import preprocessing\n",
    "\n",
    "random.seed(2)"
   ]
  },
  {
   "cell_type": "code",
   "execution_count": 2,
   "metadata": {
    "collapsed": true
   },
   "outputs": [],
   "source": [
    "rater_df = pd.read_csv(\"JokeRater.csv\")\n",
    "rating_df = pd.read_csv(\"JokeRating.csv\")\n",
    "joke_df = pd.read_csv(\"Joke.csv\")\n",
    "\n",
    "rater_df.rename(columns = {'id':'joke_rater_id'}, inplace = True)\n",
    "joke_df.rename(columns = {'id':'joke_id'}, inplace = True)\n",
    "joke_df['joke_id'] = joke_df['joke_id'].astype(float)\n",
    "rater_df = rater_df.drop('joke_submitter_id', axis=1)\n",
    "joke_df = joke_df.drop('joke_submitter_id', axis=1)\n",
    "joke_df = joke_df.drop('joke_source', axis=1)"
   ]
  },
  {
   "cell_type": "markdown",
   "metadata": {},
   "source": [
    "----\n",
    "### Incorporating Features"
   ]
  },
  {
   "cell_type": "code",
   "execution_count": 3,
   "metadata": {},
   "outputs": [
    {
     "name": "stdout",
     "output_type": "stream",
     "text": [
      "79.3245471006%\n"
     ]
    }
   ],
   "source": [
    "#LSA => data reduction for the tf-idf text matrixs =>20\n",
    "\n",
    "def lsa_fn(X_tfidf, dim_reduce = 20):\n",
    "    from sklearn.decomposition import TruncatedSVD \n",
    "    from sklearn.preprocessing import Normalizer\n",
    "    \"\"\"\n",
    "    INPUT:\n",
    "    \n",
    "    dim_reduce: the number of columns you expect for the results\n",
    "    X_tfidf: ti-idf matrix \n",
    "    \n",
    "    OUTPUT:\n",
    "    matrix with reduced dim (should be number_of_jokes x dim_reduce) \n",
    "    \"\"\"\n",
    "    \n",
    "    lsa = TruncatedSVD(dim_reduce, algorithm = 'arpack')\n",
    "\n",
    "    # X_tfidf : 153 x 788 tf-idf matrix\n",
    "    dtm_lsa = lsa.fit_transform(X_tfidf)\n",
    "\n",
    "    #reduced matrix (combine this matrix w/ other features)\n",
    "    dtm_lsa = Normalizer(copy=False).fit_transform(dtm_lsa)\n",
    "    \n",
    "    print(str(lsa.explained_variance_.cumsum()[-1] * 100) + \"%\")\n",
    "    \n",
    "    return(dtm_lsa)\n",
    "\n",
    "feature_df = pd.read_csv(\"feature_tfidf.csv\")\n",
    "add_features = feature_df.iloc[:,1:5]\n",
    "\n",
    "X_tfidf = feature_df.iloc[:,6:]\n",
    "\n",
    "reduced_tfidf = lsa_fn(X_tfidf, 100) # 93.8% variance explained"
   ]
  },
  {
   "cell_type": "code",
   "execution_count": 4,
   "metadata": {
    "scrolled": false
   },
   "outputs": [
    {
     "data": {
      "text/html": [
       "<div>\n",
       "<style scoped>\n",
       "    .dataframe tbody tr th:only-of-type {\n",
       "        vertical-align: middle;\n",
       "    }\n",
       "\n",
       "    .dataframe tbody tr th {\n",
       "        vertical-align: top;\n",
       "    }\n",
       "\n",
       "    .dataframe thead th {\n",
       "        text-align: right;\n",
       "    }\n",
       "</style>\n",
       "<table border=\"1\" class=\"dataframe\">\n",
       "  <thead>\n",
       "    <tr style=\"text-align: right;\">\n",
       "      <th></th>\n",
       "      <th>joke_id</th>\n",
       "      <th>length</th>\n",
       "      <th>ave_character</th>\n",
       "      <th>ave_word</th>\n",
       "      <th>tfidf0</th>\n",
       "      <th>tfidf1</th>\n",
       "      <th>tfidf2</th>\n",
       "      <th>tfidf3</th>\n",
       "      <th>tfidf4</th>\n",
       "      <th>tfidf5</th>\n",
       "      <th>...</th>\n",
       "      <th>tfidf90</th>\n",
       "      <th>tfidf91</th>\n",
       "      <th>tfidf92</th>\n",
       "      <th>tfidf93</th>\n",
       "      <th>tfidf94</th>\n",
       "      <th>tfidf95</th>\n",
       "      <th>tfidf96</th>\n",
       "      <th>tfidf97</th>\n",
       "      <th>tfidf98</th>\n",
       "      <th>tfidf99</th>\n",
       "    </tr>\n",
       "  </thead>\n",
       "  <tbody>\n",
       "    <tr>\n",
       "      <th>0</th>\n",
       "      <td>505</td>\n",
       "      <td>11</td>\n",
       "      <td>4.727273</td>\n",
       "      <td>5.5</td>\n",
       "      <td>6.620246e-01</td>\n",
       "      <td>3.293859e-01</td>\n",
       "      <td>-2.389910e-01</td>\n",
       "      <td>-1.227327e-01</td>\n",
       "      <td>4.211042e-02</td>\n",
       "      <td>-1.267468e-01</td>\n",
       "      <td>...</td>\n",
       "      <td>8.225381e-16</td>\n",
       "      <td>6.829028e-15</td>\n",
       "      <td>8.530222e-02</td>\n",
       "      <td>4.047082e-02</td>\n",
       "      <td>-4.912029e-02</td>\n",
       "      <td>2.076249e-02</td>\n",
       "      <td>-2.272645e-02</td>\n",
       "      <td>4.705880e-03</td>\n",
       "      <td>-1.008007e-01</td>\n",
       "      <td>-1.993189e-02</td>\n",
       "    </tr>\n",
       "    <tr>\n",
       "      <th>1</th>\n",
       "      <td>506</td>\n",
       "      <td>10</td>\n",
       "      <td>6.000000</td>\n",
       "      <td>10.0</td>\n",
       "      <td>5.388173e-03</td>\n",
       "      <td>-7.282967e-03</td>\n",
       "      <td>-4.464966e-03</td>\n",
       "      <td>-5.146563e-03</td>\n",
       "      <td>3.906789e-03</td>\n",
       "      <td>-9.629830e-03</td>\n",
       "      <td>...</td>\n",
       "      <td>3.383072e-18</td>\n",
       "      <td>4.678380e-15</td>\n",
       "      <td>-4.138512e-02</td>\n",
       "      <td>-4.601429e-02</td>\n",
       "      <td>-5.710354e-02</td>\n",
       "      <td>-4.692401e-02</td>\n",
       "      <td>-2.702509e-02</td>\n",
       "      <td>-8.932947e-02</td>\n",
       "      <td>-7.347988e-02</td>\n",
       "      <td>6.487221e-05</td>\n",
       "    </tr>\n",
       "    <tr>\n",
       "      <th>2</th>\n",
       "      <td>507</td>\n",
       "      <td>17</td>\n",
       "      <td>4.000000</td>\n",
       "      <td>8.5</td>\n",
       "      <td>1.513910e-02</td>\n",
       "      <td>6.486541e-03</td>\n",
       "      <td>2.018318e-02</td>\n",
       "      <td>4.692381e-02</td>\n",
       "      <td>3.886895e-03</td>\n",
       "      <td>-9.681898e-03</td>\n",
       "      <td>...</td>\n",
       "      <td>4.454194e-16</td>\n",
       "      <td>-1.904457e-15</td>\n",
       "      <td>5.257434e-02</td>\n",
       "      <td>3.367079e-03</td>\n",
       "      <td>1.952242e-02</td>\n",
       "      <td>8.256564e-02</td>\n",
       "      <td>-9.018418e-02</td>\n",
       "      <td>-4.110824e-02</td>\n",
       "      <td>-5.826328e-02</td>\n",
       "      <td>8.898750e-02</td>\n",
       "    </tr>\n",
       "    <tr>\n",
       "      <th>3</th>\n",
       "      <td>508</td>\n",
       "      <td>21</td>\n",
       "      <td>4.523810</td>\n",
       "      <td>10.5</td>\n",
       "      <td>1.934393e-01</td>\n",
       "      <td>-3.355115e-02</td>\n",
       "      <td>8.768509e-02</td>\n",
       "      <td>-4.540663e-02</td>\n",
       "      <td>1.470479e-01</td>\n",
       "      <td>-1.769802e-01</td>\n",
       "      <td>...</td>\n",
       "      <td>-2.142130e-15</td>\n",
       "      <td>-2.643978e-14</td>\n",
       "      <td>-1.707641e-01</td>\n",
       "      <td>-9.478652e-02</td>\n",
       "      <td>-6.879718e-02</td>\n",
       "      <td>9.383712e-02</td>\n",
       "      <td>-1.118140e-01</td>\n",
       "      <td>4.154365e-02</td>\n",
       "      <td>1.248751e-01</td>\n",
       "      <td>-6.191568e-02</td>\n",
       "    </tr>\n",
       "    <tr>\n",
       "      <th>4</th>\n",
       "      <td>509</td>\n",
       "      <td>9</td>\n",
       "      <td>4.666667</td>\n",
       "      <td>9.0</td>\n",
       "      <td>8.621919e-17</td>\n",
       "      <td>-2.467479e-16</td>\n",
       "      <td>3.583252e-17</td>\n",
       "      <td>4.727794e-17</td>\n",
       "      <td>-1.755476e-16</td>\n",
       "      <td>-5.684259e-17</td>\n",
       "      <td>...</td>\n",
       "      <td>-2.540412e-17</td>\n",
       "      <td>1.663070e-16</td>\n",
       "      <td>-6.138336e-17</td>\n",
       "      <td>-4.702061e-17</td>\n",
       "      <td>1.437249e-16</td>\n",
       "      <td>7.331667e-17</td>\n",
       "      <td>3.502810e-17</td>\n",
       "      <td>9.737678e-17</td>\n",
       "      <td>-6.426634e-18</td>\n",
       "      <td>-6.449480e-19</td>\n",
       "    </tr>\n",
       "  </tbody>\n",
       "</table>\n",
       "<p>5 rows × 104 columns</p>\n",
       "</div>"
      ],
      "text/plain": [
       "   joke_id  length  ave_character  ave_word        tfidf0        tfidf1  \\\n",
       "0      505      11       4.727273       5.5  6.620246e-01  3.293859e-01   \n",
       "1      506      10       6.000000      10.0  5.388173e-03 -7.282967e-03   \n",
       "2      507      17       4.000000       8.5  1.513910e-02  6.486541e-03   \n",
       "3      508      21       4.523810      10.5  1.934393e-01 -3.355115e-02   \n",
       "4      509       9       4.666667       9.0  8.621919e-17 -2.467479e-16   \n",
       "\n",
       "         tfidf2        tfidf3        tfidf4        tfidf5      ...       \\\n",
       "0 -2.389910e-01 -1.227327e-01  4.211042e-02 -1.267468e-01      ...        \n",
       "1 -4.464966e-03 -5.146563e-03  3.906789e-03 -9.629830e-03      ...        \n",
       "2  2.018318e-02  4.692381e-02  3.886895e-03 -9.681898e-03      ...        \n",
       "3  8.768509e-02 -4.540663e-02  1.470479e-01 -1.769802e-01      ...        \n",
       "4  3.583252e-17  4.727794e-17 -1.755476e-16 -5.684259e-17      ...        \n",
       "\n",
       "        tfidf90       tfidf91       tfidf92       tfidf93       tfidf94  \\\n",
       "0  8.225381e-16  6.829028e-15  8.530222e-02  4.047082e-02 -4.912029e-02   \n",
       "1  3.383072e-18  4.678380e-15 -4.138512e-02 -4.601429e-02 -5.710354e-02   \n",
       "2  4.454194e-16 -1.904457e-15  5.257434e-02  3.367079e-03  1.952242e-02   \n",
       "3 -2.142130e-15 -2.643978e-14 -1.707641e-01 -9.478652e-02 -6.879718e-02   \n",
       "4 -2.540412e-17  1.663070e-16 -6.138336e-17 -4.702061e-17  1.437249e-16   \n",
       "\n",
       "        tfidf95       tfidf96       tfidf97       tfidf98       tfidf99  \n",
       "0  2.076249e-02 -2.272645e-02  4.705880e-03 -1.008007e-01 -1.993189e-02  \n",
       "1 -4.692401e-02 -2.702509e-02 -8.932947e-02 -7.347988e-02  6.487221e-05  \n",
       "2  8.256564e-02 -9.018418e-02 -4.110824e-02 -5.826328e-02  8.898750e-02  \n",
       "3  9.383712e-02 -1.118140e-01  4.154365e-02  1.248751e-01 -6.191568e-02  \n",
       "4  7.331667e-17  3.502810e-17  9.737678e-17 -6.426634e-18 -6.449480e-19  \n",
       "\n",
       "[5 rows x 104 columns]"
      ]
     },
     "execution_count": 4,
     "metadata": {},
     "output_type": "execute_result"
    }
   ],
   "source": [
    "tfidf_df = pd.DataFrame(reduced_tfidf)\n",
    "tfidf_columns = [\"tfidf\" + str(i) for i in range((tfidf_df.shape[1]))]\n",
    "tfidf_df.columns = tfidf_columns\n",
    "feat = pd.concat([add_features, tfidf_df], axis=1)\n",
    "feat.rename(columns = {'id':'joke_id'}, inplace = True)\n",
    "\n",
    "joke_df = pd.merge(joke_df, feat, on='joke_id', how='outer')\n",
    "feat.head()"
   ]
  },
  {
   "cell_type": "markdown",
   "metadata": {},
   "source": [
    "Dealing with <b>low variance</b> users"
   ]
  },
  {
   "cell_type": "code",
   "execution_count": 5,
   "metadata": {},
   "outputs": [
    {
     "name": "stdout",
     "output_type": "stream",
     "text": [
      "(14338, 12)\n",
      "dict_keys([539, 492, 567, 566, 459, 488])\n",
      "(13399, 12)\n"
     ]
    },
    {
     "name": "stderr",
     "output_type": "stream",
     "text": [
      "C:\\Users\\Cindy\\Anaconda3\\lib\\site-packages\\ipykernel\\__main__.py:9: RuntimeWarning: Degrees of freedom <= 0 for slice.\n"
     ]
    }
   ],
   "source": [
    "df = pd.merge(rating_df, rater_df, on=\"joke_rater_id\", how=\"outer\")\n",
    "df = df.drop('id', axis=1)\n",
    "print(df.shape)\n",
    "\n",
    "user_var = {}\n",
    "for rater in df.joke_rater_id.unique():\n",
    "    entries = df[(df['joke_rater_id']==rater)]\n",
    "    ratings = entries.rating\n",
    "    var = np.nanvar(ratings)\n",
    "    if np.isnan(var) == False:\n",
    "        user_var[rater] = var\n",
    "        #print(str(rater) + \": \" + str(np.nanvar(ratings)))\n",
    "        \n",
    "bad_keys = dict((k, v) for k, v in user_var.items() if v < 0.4).keys()\n",
    "print(bad_keys) # these are the low variance users\n",
    "\n",
    "df = df[~df['joke_rater_id'].isin(bad_keys)].reset_index(drop=True) # remove low variance users\n",
    "df = df.loc[0:13398] # remove single entry NaN users\n",
    "print(df.shape)"
   ]
  },
  {
   "cell_type": "code",
   "execution_count": 6,
   "metadata": {},
   "outputs": [
    {
     "data": {
      "text/plain": [
       "(13399, 119)"
      ]
     },
     "execution_count": 6,
     "metadata": {},
     "output_type": "execute_result"
    }
   ],
   "source": [
    "df = pd.merge(df, joke_df, on='joke_id', how='outer')\n",
    "df.shape"
   ]
  },
  {
   "cell_type": "markdown",
   "metadata": {},
   "source": [
    "#### Deal with NA's."
   ]
  },
  {
   "cell_type": "code",
   "execution_count": 179,
   "metadata": {
    "collapsed": true
   },
   "outputs": [],
   "source": [
    "def impute_NA(df):\n",
    "    which_drop = df[df.isnull().sum(axis=1) > 2].index\n",
    "    new_df = df.drop(which_drop)\n",
    "\n",
    "    modes = new_df.mode()\n",
    "    new_df.birth_country = new_df.birth_country.fillna(\"United States\")\n",
    "    new_df.preferred_joke_type = new_df.preferred_joke_type.fillna(\"Puns\")\n",
    "    new_df.preferred_joke_genre2 = new_df.preferred_joke_genre.fillna(\"Programming\")\n",
    "    new_df = new_df.drop(new_df[new_df.joke_type.isnull() == True].index)\n",
    "    new_df.subject = new_df.subject.fillna('0')\n",
    "    \n",
    "    return new_df\n",
    "\n",
    "\n",
    "df = impute_NA(df)"
   ]
  },
  {
   "cell_type": "markdown",
   "metadata": {},
   "source": [
    "### Dummies"
   ]
  },
  {
   "cell_type": "code",
   "execution_count": 85,
   "metadata": {},
   "outputs": [],
   "source": [
    "ignore_col = [i for i in range((df.shape[1])) if (df.iloc[:,i].dtype == np.int64) or (df.iloc[:,i].dtype == np.float64)]\n",
    "ignore_col.extend([1, 14, 15])\n",
    "ignore_col = sorted(ignore_col)"
   ]
  },
  {
   "cell_type": "code",
   "execution_count": 86,
   "metadata": {},
   "outputs": [],
   "source": [
    "#new_df.iloc[:,string_col] = pd.get_dummies(new_df.iloc[:,string_col])\n",
    "string_col = []\n",
    "for i in range((df.shape[1])):\n",
    "    if i not in ignore_col:\n",
    "        string_col.append(i)\n",
    "# same thing as\n",
    "#string_col = [3, 5, 6, 7, 8, 9, 10, 11, 12, 13]"
   ]
  },
  {
   "cell_type": "code",
   "execution_count": 151,
   "metadata": {},
   "outputs": [],
   "source": [
    "df2 = pd.concat([df.iloc[:,ignore_col], pd.get_dummies(df.iloc[:,string_col])], axis=1)"
   ]
  },
  {
   "cell_type": "markdown",
   "metadata": {},
   "source": [
    "### LASSO"
   ]
  },
  {
   "cell_type": "code",
   "execution_count": 153,
   "metadata": {},
   "outputs": [
    {
     "data": {
      "text/plain": [
       "Index(['age', 'length', 'ave_character', 'ave_word', 'tfidf0', 'tfidf1',\n",
       "       'tfidf2', 'tfidf3', 'tfidf4', 'tfidf5',\n",
       "       ...\n",
       "       'joke_type_Punch line', 'joke_type_Punch-line', 'joke_type_Question',\n",
       "       'joke_type_Silly', 'joke_type_one-liner', 'joke_type_other',\n",
       "       'joke_type_pun', 'joke_type_punch line', 'joke_type_question',\n",
       "       'joke_type_story'],\n",
       "      dtype='object', length=210)"
      ]
     },
     "execution_count": 153,
     "metadata": {},
     "output_type": "execute_result"
    }
   ],
   "source": [
    "disclude_col = [0, 1, 2, 4, 5]\n",
    "cols = [i for i in range(df2.shape[1]) if i not in disclude_col] # excluding text, subject, and ID's\n",
    "#cols = [i for j in (range(3, 4), range(6, 112)) for i in j] \n",
    "features = df2.columns[cols]"
   ]
  },
  {
   "cell_type": "code",
   "execution_count": 340,
   "metadata": {},
   "outputs": [],
   "source": [
    "temp = df2[df2.joke_rater_id == 476]\n",
    "joke_ids = temp.joke_id # used later when querying new person"
   ]
  },
  {
   "cell_type": "code",
   "execution_count": 181,
   "metadata": {},
   "outputs": [
    {
     "name": "stdout",
     "output_type": "stream",
     "text": [
      "(13305, 210)\n",
      "(13305, 131)\n"
     ]
    }
   ],
   "source": [
    "from sklearn.linear_model import Lasso\n",
    "from sklearn.feature_selection import SelectFromModel\n",
    "\n",
    "lasso = Lasso(alpha=.001, random_state=2).fit(df2[features], df2.rating)\n",
    "model = SelectFromModel(lasso, prefit=True)\n",
    "#model.fit(df2[features], df2.rating)\n",
    "\n",
    "print(df2[features].shape)\n",
    "print(model.transform(df2[features]).shape)\n",
    "\n",
    "lasso_X = model.transform(df2[features])\n",
    "\n",
    "new_features = [\"rating\", \"joke_rater_id\"]\n",
    "for i, feature in zip(model.get_support(), features):\n",
    "    if i:\n",
    "        new_features.append(feature)\n",
    "\n",
    "df3 = pd.concat([df2.rating.reset_index(), df2.joke_rater_id.reset_index(), pd.DataFrame(lasso_X)], axis=1)\n",
    "df3 = df3.drop('index', axis=1)\n",
    "df3.columns = new_features\n",
    "#df3.head()"
   ]
  },
  {
   "cell_type": "markdown",
   "metadata": {},
   "source": [
    "### Random Forest implementation"
   ]
  },
  {
   "cell_type": "markdown",
   "metadata": {},
   "source": [
    "Dividing dataframe into train and test by user."
   ]
  },
  {
   "cell_type": "code",
   "execution_count": 196,
   "metadata": {},
   "outputs": [],
   "source": [
    "train_size = round(len(rater_df) * 0.85) # 85/15 train/test split!\n",
    "\n",
    "unique_rater = df3.joke_rater_id.unique()\n",
    "\n",
    "train_idx = np.random.choice(unique_rater, train_size)\n",
    "test_idx = [i for i in unique_rater if i not in train_idx]\n",
    "\n",
    "train_df = df3.loc[df3['joke_rater_id'].isin(train_idx)]\n",
    "test_df = df3.loc[df3['joke_rater_id'].isin(test_idx)]"
   ]
  },
  {
   "cell_type": "code",
   "execution_count": 166,
   "metadata": {
    "collapsed": true
   },
   "outputs": [],
   "source": [
    "def mse(predicted, real):\n",
    "    real = np.array(real)\n",
    "    predicted = np.array(predicted)\n",
    "    temp =  (real - predicted) * (real - predicted)\n",
    "    mse = 0.5 * sum(temp)\n",
    "    return mse"
   ]
  },
  {
   "cell_type": "code",
   "execution_count": 197,
   "metadata": {},
   "outputs": [
    {
     "data": {
      "text/plain": [
       "2462.9146588318931"
      ]
     },
     "execution_count": 197,
     "metadata": {},
     "output_type": "execute_result"
    }
   ],
   "source": [
    "y = train_df.rating\n",
    "Y_list = list(y.values)\n",
    "new_cols = range(2, df3.shape[1])\n",
    "features = train_df.columns[new_cols]\n",
    "\n",
    "rf = RandomForestRegressor(n_estimators=50, max_features='sqrt', random_state=42, max_depth=10)\n",
    "rf.fit(train_df[features], y) # fitting random forest on train data\n",
    "#mse(y, rf.predict(train_df[features]).astype('float'))\n",
    "\n",
    "# testing\n",
    "rf.predict(test_df[features]).astype('float')\n",
    "mse(test_df.rating, rf.predict(test_df[features]).astype('float'))"
   ]
  },
  {
   "cell_type": "code",
   "execution_count": 198,
   "metadata": {},
   "outputs": [
    {
     "data": {
      "image/png": "[encoded data removed]",
      "text/plain": [
       "<matplotlib.figure.Figure at 0x12489526c88>"
      ]
     },
     "metadata": {},
     "output_type": "display_data"
    }
   ],
   "source": [
    "import seaborn as sns; sns.set(color_codes=True)\n",
    "import matplotlib.pyplot as plt\n",
    "\n",
    "y_test = test_df.rating\n",
    "y_pred = rf.predict(test_df[features])\n",
    "ax = sns.regplot(x=y_test, y=y_pred.astype('float'), scatter_kws={'alpha':0.1})\n",
    "plt.xlabel(\"Actual\")\n",
    "plt.ylabel(\"Predicted\")\n",
    "plt.title(\"Predicted Rating vs. Actual Rating\")\n",
    "plt.show()"
   ]
  },
  {
   "cell_type": "code",
   "execution_count": 272,
   "metadata": {},
   "outputs": [
    {
     "data": {
      "text/html": [
       "<div>\n",
       "<style scoped>\n",
       "    .dataframe tbody tr th:only-of-type {\n",
       "        vertical-align: middle;\n",
       "    }\n",
       "\n",
       "    .dataframe tbody tr th {\n",
       "        vertical-align: top;\n",
       "    }\n",
       "\n",
       "    .dataframe thead th {\n",
       "        text-align: right;\n",
       "    }\n",
       "</style>\n",
       "<table border=\"1\" class=\"dataframe\">\n",
       "  <thead>\n",
       "    <tr style=\"text-align: right;\">\n",
       "      <th></th>\n",
       "      <th>0</th>\n",
       "    </tr>\n",
       "  </thead>\n",
       "  <tbody>\n",
       "    <tr>\n",
       "      <th>age</th>\n",
       "      <td>0.101888</td>\n",
       "    </tr>\n",
       "    <tr>\n",
       "      <th>preferred_joke_genre2_Math</th>\n",
       "      <td>0.038522</td>\n",
       "    </tr>\n",
       "    <tr>\n",
       "      <th>preferred_joke_genre_Math</th>\n",
       "      <td>0.034288</td>\n",
       "    </tr>\n",
       "    <tr>\n",
       "      <th>gender_Female</th>\n",
       "      <td>0.031661</td>\n",
       "    </tr>\n",
       "    <tr>\n",
       "      <th>major_Physics</th>\n",
       "      <td>0.024822</td>\n",
       "    </tr>\n",
       "    <tr>\n",
       "      <th>favorite_music_genre_Classical</th>\n",
       "      <td>0.020893</td>\n",
       "    </tr>\n",
       "    <tr>\n",
       "      <th>tfidf79</th>\n",
       "      <td>0.015543</td>\n",
       "    </tr>\n",
       "    <tr>\n",
       "      <th>length</th>\n",
       "      <td>0.013945</td>\n",
       "    </tr>\n",
       "    <tr>\n",
       "      <th>preferred_joke_type_Dialogue</th>\n",
       "      <td>0.013486</td>\n",
       "    </tr>\n",
       "    <tr>\n",
       "      <th>favorite_movie_genre_Action</th>\n",
       "      <td>0.012891</td>\n",
       "    </tr>\n",
       "    <tr>\n",
       "      <th>tfidf15</th>\n",
       "      <td>0.012703</td>\n",
       "    </tr>\n",
       "    <tr>\n",
       "      <th>favorite_music_genre_Alternative Rock</th>\n",
       "      <td>0.012550</td>\n",
       "    </tr>\n",
       "    <tr>\n",
       "      <th>preferred_joke_type_Punch line</th>\n",
       "      <td>0.012103</td>\n",
       "    </tr>\n",
       "    <tr>\n",
       "      <th>preferred_joke_genre2_Nerd</th>\n",
       "      <td>0.011996</td>\n",
       "    </tr>\n",
       "    <tr>\n",
       "      <th>favorite_movie_genre_Mystery</th>\n",
       "      <td>0.011693</td>\n",
       "    </tr>\n",
       "  </tbody>\n",
       "</table>\n",
       "</div>"
      ],
      "text/plain": [
       "                                              0\n",
       "age                                    0.101888\n",
       "preferred_joke_genre2_Math             0.038522\n",
       "preferred_joke_genre_Math              0.034288\n",
       "gender_Female                          0.031661\n",
       "major_Physics                          0.024822\n",
       "favorite_music_genre_Classical         0.020893\n",
       "tfidf79                                0.015543\n",
       "length                                 0.013945\n",
       "preferred_joke_type_Dialogue           0.013486\n",
       "favorite_movie_genre_Action            0.012891\n",
       "tfidf15                                0.012703\n",
       "favorite_music_genre_Alternative Rock  0.012550\n",
       "preferred_joke_type_Punch line         0.012103\n",
       "preferred_joke_genre2_Nerd             0.011996\n",
       "favorite_movie_genre_Mystery           0.011693"
      ]
     },
     "execution_count": 272,
     "metadata": {},
     "output_type": "execute_result"
    }
   ],
   "source": [
    "# see what factors are most important\n",
    "s = pd.DataFrame((rf.feature_importances_))\n",
    "\n",
    "s = s.transpose()\n",
    "s.columns = features\n",
    "s = s.transpose()\n",
    "\n",
    "s.sort_values(by=0, ascending=False).head(15)"
   ]
  },
  {
   "cell_type": "markdown",
   "metadata": {},
   "source": [
    "-----\n",
    "#### Querying prediction for new users\n",
    "Need: age, gender, birth_country, major, joke_rater_id"
   ]
  },
  {
   "cell_type": "code",
   "execution_count": 366,
   "metadata": {},
   "outputs": [],
   "source": [
    "# convert data into one-hot\n",
    "\n",
    "# assume data is a dict user_dict\n",
    "def convert_sample_onehot(user_dict, df):\n",
    "    \n",
    "    from itertools import compress\n",
    "    pd.options.mode.chained_assignment = None\n",
    "    \n",
    "    entry = df[df.joke_rater_id == 476] # chose 476 randomly because they rated all 153 jokes\n",
    "    numRow = entry.shape[0]\n",
    "    \n",
    "    if user_dict['gender'] == \"Male\": # gender\n",
    "        entry.gender_Female = np.repeat(a=0, repeats=numRow)\n",
    "    #print(\"Gender ok!\")\n",
    "    \n",
    "    entry.age = np.repeat(user_dict['age'], numRow) # age\n",
    "    #print(\"Age ok!\")\n",
    "    entry.joke_rater_id = np.repeat(user_dict['id'], numRow)\n",
    "    #print(\"ID ok!\")\n",
    "    \n",
    "    ## COUNTRY\n",
    "    #temp = user_dict['birth_country'].split()\n",
    "    #temp = \"_\".join(temp)\n",
    "    \n",
    "    user_country = \"birth_country_\" + user_dict['birth_country'] # user's country\n",
    "    avail_countries = list(compress(features, [item.startswith('birth') for item in features])) # country dummies\n",
    "    country_cols = [i for i, x in enumerate(avail_countries) if x]\n",
    "    for col in country_cols:\n",
    "        entry.loc[:, col] = np.repeat(0, numRow) # set all countries to 0 for blank slate\n",
    "    if user_country in avail_countries:\n",
    "        entry.loc[:,user_country] = np.repeat(1, numRow) # if user country present, set to 1\n",
    "        \n",
    "    #print(\"Country ok!\")\n",
    "    \n",
    "    ## MAJOR\n",
    "    user_major = \"major_\" + user_dict['major'] # user's major\n",
    "    avail_majors = list(compress(features, [item.startswith('major') for item in features])) # major dummies\n",
    "    major_cols = [i for i, x in enumerate(avail_majors) if x]\n",
    "    for col in major_cols:\n",
    "        entry.loc[:, col] = np.repeat(0, numRow) # set all countries to 0 for blank slate  \n",
    "        \n",
    "    if user_major in avail_majors:\n",
    "\n",
    "        entry.loc[:,user_major] = np.repeat(1, numRow)\n",
    "        \n",
    "    #print(\"Major ok!\")\n",
    "        \n",
    "    return entry"
   ]
  },
  {
   "cell_type": "code",
   "execution_count": 255,
   "metadata": {
    "collapsed": true
   },
   "outputs": [],
   "source": [
    "sample_user = {'major':'Statistics', 'age':24, 'birth_country':\"United States\", 'gender':\"Female\", 'id':5}"
   ]
  },
  {
   "cell_type": "code",
   "execution_count": 367,
   "metadata": {},
   "outputs": [],
   "source": [
    "temp = convert_sample_onehot(sample_user, df3)"
   ]
  },
  {
   "cell_type": "markdown",
   "metadata": {},
   "source": [
    "NEED TO: take care of missing values, incorrectly typed values"
   ]
  },
  {
   "cell_type": "code",
   "execution_count": 368,
   "metadata": {},
   "outputs": [],
   "source": [
    "preds = rf.predict(temp[features]) # predicted ratings"
   ]
  },
  {
   "cell_type": "code",
   "execution_count": 369,
   "metadata": {},
   "outputs": [],
   "source": [
    "something = pd.DataFrame(joke_ids)\n",
    "something['pred'] = preds"
   ]
  },
  {
   "cell_type": "code",
   "execution_count": 370,
   "metadata": {},
   "outputs": [
    {
     "data": {
      "text/html": [
       "<div>\n",
       "<style scoped>\n",
       "    .dataframe tbody tr th:only-of-type {\n",
       "        vertical-align: middle;\n",
       "    }\n",
       "\n",
       "    .dataframe tbody tr th {\n",
       "        vertical-align: top;\n",
       "    }\n",
       "\n",
       "    .dataframe thead th {\n",
       "        text-align: right;\n",
       "    }\n",
       "</style>\n",
       "<table border=\"1\" class=\"dataframe\">\n",
       "  <thead>\n",
       "    <tr style=\"text-align: right;\">\n",
       "      <th></th>\n",
       "      <th>joke_id</th>\n",
       "      <th>pred</th>\n",
       "    </tr>\n",
       "  </thead>\n",
       "  <tbody>\n",
       "    <tr>\n",
       "      <th>1143</th>\n",
       "      <td>649</td>\n",
       "      <td>3.616075</td>\n",
       "    </tr>\n",
       "    <tr>\n",
       "      <th>5196</th>\n",
       "      <td>658</td>\n",
       "      <td>3.458961</td>\n",
       "    </tr>\n",
       "    <tr>\n",
       "      <th>11311</th>\n",
       "      <td>633</td>\n",
       "      <td>3.436767</td>\n",
       "    </tr>\n",
       "    <tr>\n",
       "      <th>2020</th>\n",
       "      <td>535</td>\n",
       "      <td>3.380916</td>\n",
       "    </tr>\n",
       "    <tr>\n",
       "      <th>5456</th>\n",
       "      <td>514</td>\n",
       "      <td>3.371840</td>\n",
       "    </tr>\n",
       "    <tr>\n",
       "      <th>180</th>\n",
       "      <td>552</td>\n",
       "      <td>3.371224</td>\n",
       "    </tr>\n",
       "    <tr>\n",
       "      <th>9472</th>\n",
       "      <td>520</td>\n",
       "      <td>3.352637</td>\n",
       "    </tr>\n",
       "    <tr>\n",
       "      <th>6938</th>\n",
       "      <td>619</td>\n",
       "      <td>3.333563</td>\n",
       "    </tr>\n",
       "    <tr>\n",
       "      <th>2197</th>\n",
       "      <td>573</td>\n",
       "      <td>3.308793</td>\n",
       "    </tr>\n",
       "    <tr>\n",
       "      <th>6505</th>\n",
       "      <td>663</td>\n",
       "      <td>3.296548</td>\n",
       "    </tr>\n",
       "  </tbody>\n",
       "</table>\n",
       "</div>"
      ],
      "text/plain": [
       "      joke_id      pred\n",
       "1143      649  3.616075\n",
       "5196      658  3.458961\n",
       "11311     633  3.436767\n",
       "2020      535  3.380916\n",
       "5456      514  3.371840\n",
       "180       552  3.371224\n",
       "9472      520  3.352637\n",
       "6938      619  3.333563\n",
       "2197      573  3.308793\n",
       "6505      663  3.296548"
      ]
     },
     "execution_count": 370,
     "metadata": {},
     "output_type": "execute_result"
    }
   ],
   "source": [
    "something.sort_values('pred', ascending=False).head(10)"
   ]
  },
  {
   "cell_type": "code",
   "execution_count": 371,
   "metadata": {},
   "outputs": [],
   "source": [
    "top10_id = list(something.sort_values('pred', ascending=False).head(10)['joke_id'])"
   ]
  },
  {
   "cell_type": "code",
   "execution_count": 372,
   "metadata": {},
   "outputs": [
    {
     "data": {
      "text/html": [
       "<div>\n",
       "<style scoped>\n",
       "    .dataframe tbody tr th:only-of-type {\n",
       "        vertical-align: middle;\n",
       "    }\n",
       "\n",
       "    .dataframe tbody tr th {\n",
       "        vertical-align: top;\n",
       "    }\n",
       "\n",
       "    .dataframe thead th {\n",
       "        text-align: right;\n",
       "    }\n",
       "</style>\n",
       "<table border=\"1\" class=\"dataframe\">\n",
       "  <thead>\n",
       "    <tr style=\"text-align: right;\">\n",
       "      <th></th>\n",
       "      <th>joke_id</th>\n",
       "      <th>category</th>\n",
       "      <th>joke_type</th>\n",
       "      <th>subject</th>\n",
       "      <th>joke_text</th>\n",
       "    </tr>\n",
       "  </thead>\n",
       "  <tbody>\n",
       "    <tr>\n",
       "      <th>8</th>\n",
       "      <td>514</td>\n",
       "      <td>Programming</td>\n",
       "      <td>Question</td>\n",
       "      <td>Loop</td>\n",
       "      <td>Why are 'i' and 'j' a good source of informati...</td>\n",
       "    </tr>\n",
       "    <tr>\n",
       "      <th>14</th>\n",
       "      <td>520</td>\n",
       "      <td>Children</td>\n",
       "      <td>Pun</td>\n",
       "      <td>Fruit</td>\n",
       "      <td>My friend thinks he is smart. He told me an on...</td>\n",
       "    </tr>\n",
       "    <tr>\n",
       "      <th>29</th>\n",
       "      <td>535</td>\n",
       "      <td>Programming</td>\n",
       "      <td>pun</td>\n",
       "      <td>Programmers</td>\n",
       "      <td>Why are Assembly programmers always soaking we...</td>\n",
       "    </tr>\n",
       "    <tr>\n",
       "      <th>46</th>\n",
       "      <td>552</td>\n",
       "      <td>Political</td>\n",
       "      <td>one-liner</td>\n",
       "      <td>Bureaucracy</td>\n",
       "      <td>The worst part about working for the departmen...</td>\n",
       "    </tr>\n",
       "    <tr>\n",
       "      <th>66</th>\n",
       "      <td>573</td>\n",
       "      <td>Medicine</td>\n",
       "      <td>Pun</td>\n",
       "      <td>Broken Leg</td>\n",
       "      <td>I told the doctor I broke my leg in two places...</td>\n",
       "    </tr>\n",
       "    <tr>\n",
       "      <th>109</th>\n",
       "      <td>619</td>\n",
       "      <td>Dad</td>\n",
       "      <td>Pun</td>\n",
       "      <td>Drugs</td>\n",
       "      <td>I bought shoes from a drug dealer once. I don'...</td>\n",
       "    </tr>\n",
       "    <tr>\n",
       "      <th>121</th>\n",
       "      <td>633</td>\n",
       "      <td>Medicine</td>\n",
       "      <td>question</td>\n",
       "      <td>doctors</td>\n",
       "      <td>Q: Does an apple a day keep the doctor away? A...</td>\n",
       "    </tr>\n",
       "    <tr>\n",
       "      <th>137</th>\n",
       "      <td>649</td>\n",
       "      <td>Math</td>\n",
       "      <td>Punch line</td>\n",
       "      <td>PhD in Mathematics</td>\n",
       "      <td>What is the difference between a Ph.D. in math...</td>\n",
       "    </tr>\n",
       "    <tr>\n",
       "      <th>144</th>\n",
       "      <td>658</td>\n",
       "      <td>Political</td>\n",
       "      <td>One-liner</td>\n",
       "      <td>Political Jokes</td>\n",
       "      <td>It is difficult to come up with new political ...</td>\n",
       "    </tr>\n",
       "    <tr>\n",
       "      <th>148</th>\n",
       "      <td>663</td>\n",
       "      <td>School</td>\n",
       "      <td>One-liner</td>\n",
       "      <td>Plagiarism is Bad</td>\n",
       "      <td>The plagiarism section of the syllabus is the ...</td>\n",
       "    </tr>\n",
       "  </tbody>\n",
       "</table>\n",
       "</div>"
      ],
      "text/plain": [
       "    joke_id     category   joke_type             subject  \\\n",
       "8       514  Programming    Question                Loop   \n",
       "14      520     Children         Pun               Fruit   \n",
       "29      535  Programming         pun         Programmers   \n",
       "46      552    Political   one-liner         Bureaucracy   \n",
       "66      573     Medicine         Pun          Broken Leg   \n",
       "109     619          Dad         Pun               Drugs   \n",
       "121     633     Medicine    question             doctors   \n",
       "137     649         Math  Punch line  PhD in Mathematics   \n",
       "144     658    Political   One-liner     Political Jokes   \n",
       "148     663       School   One-liner   Plagiarism is Bad   \n",
       "\n",
       "                                             joke_text  \n",
       "8    Why are 'i' and 'j' a good source of informati...  \n",
       "14   My friend thinks he is smart. He told me an on...  \n",
       "29   Why are Assembly programmers always soaking we...  \n",
       "46   The worst part about working for the departmen...  \n",
       "66   I told the doctor I broke my leg in two places...  \n",
       "109  I bought shoes from a drug dealer once. I don'...  \n",
       "121  Q: Does an apple a day keep the doctor away? A...  \n",
       "137  What is the difference between a Ph.D. in math...  \n",
       "144  It is difficult to come up with new political ...  \n",
       "148  The plagiarism section of the syllabus is the ...  "
      ]
     },
     "execution_count": 372,
     "metadata": {},
     "output_type": "execute_result"
    }
   ],
   "source": [
    "joke_df[joke_df.joke_id.isin(top10_id)].iloc[:,0:5]"
   ]
  }
 ],
 "metadata": {
  "kernelspec": {
   "display_name": "Python 3",
   "language": "python",
   "name": "python3"
  },
  "language_info": {
   "codemirror_mode": {
    "name": "ipython",
    "version": 3
   },
   "file_extension": ".py",
   "mimetype": "text/x-python",
   "name": "python",
   "nbconvert_exporter": "python",
   "pygments_lexer": "ipython3",
   "version": "3.6.0"
  }
 },
 "nbformat": 4,
 "nbformat_minor": 2
}
